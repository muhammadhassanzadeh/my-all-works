{
 "cells": [
  {
   "cell_type": "markdown",
   "id": "117eff4c",
   "metadata": {},
   "source": [
    "# Machine learning as part of AI\n",
    "## STEPS ARE AS FOLLOWES:\n",
    ">1.IMPORTING THE DATA \n",
    "\n",
    ">2.CLEANING THE DATA\n",
    "\n",
    ">3.SPLIT THE DATA\n",
    "\n",
    ">4.CREATE MODELA\n",
    "\n",
    ">5.MAKE PREDICTION\n",
    "\n",
    ">6.EVALUATION IMPORT DIFFERENT PACKAGES\n",
    "\n",
    "## Support Vector Machine\n",
    "for some of data adding an extra dimention with atransformation or mapping can be suitable or even better trick which is called $kernal$ which can be set with  'poly' or ''....."
   ]
  },
  {
   "cell_type": "code",
   "execution_count": 1,
   "id": "f432b2ce",
   "metadata": {},
   "outputs": [],
   "source": [
    "import pandas as pd\n",
    "from sklearn.svm import SVC ,LinearSVC,SVR\n",
    "from sklearn.tree import DecisionTreeClassifier\n",
    "from sklearn.metrics import accuracy_score\n",
    "from sklearn.model_selection import train_test_split\n",
    "# a way for saving our trained model from sklearn.external and joblib so we dont need to train our model every time\n",
    "#from sklearn.externals import joblib\n",
    "import joblib"
   ]
  },
  {
   "cell_type": "code",
   "execution_count": 2,
   "id": "8b4c342e",
   "metadata": {},
   "outputs": [],
   "source": [
    "df=pd.read_csv('music.csv')\n",
    "# df.shape,df.describe(),df.values,df.keys"
   ]
  },
  {
   "cell_type": "code",
   "execution_count": 22,
   "id": "469ea800",
   "metadata": {},
   "outputs": [
    {
     "data": {
      "text/plain": [
       "((3, 2), (3,))"
      ]
     },
     "execution_count": 22,
     "metadata": {},
     "output_type": "execute_result"
    }
   ],
   "source": [
    "\n",
    "x=df.drop(columns='genre')\n",
    "y=df['genre']\n",
    "x_train,x_test ,y_train, y_test=train_test_split(x,y,test_size=0.15)\n",
    "\n",
    "x_test.shape, y_test.shape"
   ]
  },
  {
   "cell_type": "markdown",
   "id": "dd0005cf",
   "metadata": {},
   "source": [
    "# creating model and training them\n",
    "\n",
    "## 1_decision tree classifier\n",
    "joblib help us to save and reuse our trained model with dump and load"
   ]
  },
  {
   "cell_type": "code",
   "execution_count": 20,
   "id": "3abdb0c9",
   "metadata": {},
   "outputs": [
    {
     "name": "stderr",
     "output_type": "stream",
     "text": [
      "C:\\Users\\Acer\\AppData\\Local\\Programs\\Python\\Python39\\lib\\site-packages\\sklearn\\base.py:450: UserWarning: X does not have valid feature names, but DecisionTreeClassifier was fitted with feature names\n",
      "  warnings.warn(\n"
     ]
    },
    {
     "data": {
      "text/plain": [
       "(1.0, array(['Dance', 'Classical'], dtype=object))"
      ]
     },
     "execution_count": 20,
     "metadata": {},
     "output_type": "execute_result"
    }
   ],
   "source": [
    "# model=DecisionTreeClassifier()\n",
    "# model.fit(x_train,y_train)\n",
    "model=joblib.load('trained_model.joblib')\n",
    "prediction=model.predict(x_test)\n",
    "score= accuracy_score(y_test,prediction)\n",
    "# joblib.dump(model,'trained_model.joblib')\n",
    "\n",
    "score,model.predict([[25,0],[55,1]]) #predict the 25 male genre tendency and 55y.o female"
   ]
  },
  {
   "cell_type": "markdown",
   "id": "2b691109",
   "metadata": {},
   "source": [
    "# SVM"
   ]
  },
  {
   "cell_type": "code",
   "execution_count": 5,
   "id": "9b62e403",
   "metadata": {},
   "outputs": [
    {
     "name": "stderr",
     "output_type": "stream",
     "text": [
      "C:\\Users\\Acer\\AppData\\Local\\Programs\\Python\\Python39\\lib\\site-packages\\sklearn\\base.py:450: UserWarning: X does not have valid feature names, but SVC was fitted with feature names\n",
      "  warnings.warn(\n"
     ]
    },
    {
     "data": {
      "text/plain": [
       "(1.0, array(['Dance', 'Classical'], dtype=object))"
      ]
     },
     "execution_count": 5,
     "metadata": {},
     "output_type": "execute_result"
    }
   ],
   "source": [
    "\n",
    "model1=SVC(kernel ='linear', random_state = 0)\n",
    "\n",
    "\n",
    "# x_train['new']=x_train['age']**2 # this is how we add an other dimention to our space\n",
    "\n",
    "#\n",
    "model1.fit(x_train,y_train)\n",
    "\n",
    "prediction=model1.predict(x_test)\n",
    "score= accuracy_score(y_test,prediction)\n",
    "\n",
    "score,model1.predict([[25,0],[55,1]]) #predict the 25 male genre tendency and 55y.o female"
   ]
  },
  {
   "cell_type": "code",
   "execution_count": 6,
   "id": "1ba6d38c",
   "metadata": {},
   "outputs": [
    {
     "name": "stderr",
     "output_type": "stream",
     "text": [
      "C:\\Users\\Acer\\AppData\\Local\\Programs\\Python\\Python39\\lib\\site-packages\\sklearn\\svm\\_base.py:1225: ConvergenceWarning: Liblinear failed to converge, increase the number of iterations.\n",
      "  warnings.warn(\n",
      "C:\\Users\\Acer\\AppData\\Local\\Programs\\Python\\Python39\\lib\\site-packages\\sklearn\\base.py:450: UserWarning: X does not have valid feature names, but LinearSVC was fitted with feature names\n",
      "  warnings.warn(\n"
     ]
    },
    {
     "data": {
      "text/plain": [
       "(0.6666666666666666, array(['Acoustic', 'Classical'], dtype=object))"
      ]
     },
     "execution_count": 6,
     "metadata": {},
     "output_type": "execute_result"
    }
   ],
   "source": [
    "model1=LinearSVC()\n",
    "\n",
    "\n",
    "# x_train['new']=x_train['age']**2 # this is how we add an other dimention to our space\n",
    "\n",
    "#\n",
    "model1.fit(x_train,y_train)\n",
    "\n",
    "prediction=model1.predict(x_test)\n",
    "score= accuracy_score(y_test,prediction)\n",
    "\n",
    "score,model1.predict([[25,0],[55,1]]) #predict the 25 male genre tendency and 55y.o female"
   ]
  },
  {
   "cell_type": "code",
   "execution_count": 7,
   "id": "8bd1e397",
   "metadata": {},
   "outputs": [],
   "source": [
    "from sklearn import datasets, linear_model\n",
    "from sklearn.model_selection import cross_val_predict\n",
    "diabetes = datasets.load_diabetes()\n",
    "X = diabetes.data[:150]\n",
    "y = diabetes.target[:150]\n",
    "lasso = linear_model.Lasso()\n",
    "y_pred = cross_val_predict(lasso, X, y, cv=3)"
   ]
  },
  {
   "cell_type": "markdown",
   "id": "1abf9995",
   "metadata": {},
   "source": [
    "To save the model, we use joblib.dump to which we specify the filename and the regression model which we need save."
   ]
  },
  {
   "cell_type": "code",
   "execution_count": null,
   "id": "8f41c9ab",
   "metadata": {},
   "outputs": [],
   "source": [
    "joblib.dump(model, 'reg_1.sav')"
   ]
  },
  {
   "cell_type": "markdown",
   "id": "0ca47bec",
   "metadata": {},
   "source": [
    "Note that we are only providing the filename and not opening the file as we did for the pickle method.\n",
    "\n",
    "Now that we have saved the model, we can load the model using joblib.load\n",
    "\n",
    "\n"
   ]
  },
  {
   "cell_type": "code",
   "execution_count": null,
   "id": "42aa024f",
   "metadata": {},
   "outputs": [],
   "source": [
    "joblib_model= joblib.load('reg_1.sav')"
   ]
  },
  {
   "cell_type": "code",
   "execution_count": null,
   "id": "c700fd19",
   "metadata": {},
   "outputs": [],
   "source": []
  }
 ],
 "metadata": {
  "kernelspec": {
   "display_name": "Python 3 (ipykernel)",
   "language": "python",
   "name": "python3"
  },
  "language_info": {
   "codemirror_mode": {
    "name": "ipython",
    "version": 3
   },
   "file_extension": ".py",
   "mimetype": "text/x-python",
   "name": "python",
   "nbconvert_exporter": "python",
   "pygments_lexer": "ipython3",
   "version": "3.9.6"
  }
 },
 "nbformat": 4,
 "nbformat_minor": 5
}
