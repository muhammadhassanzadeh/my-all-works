{
 "cells": [
  {
   "cell_type": "markdown",
   "id": "3f3f7497",
   "metadata": {},
   "source": [
    "# Penalty function\n",
    "## Dr Vahidi\n",
    "## Muhammad Hassanzadeh\n",
    "\n",
    "Penalty methods are a certain class of algorithms for solving constrained optimization problems.\n",
    "\n",
    "A penalty method replaces a constrained optimization problem by a series of unconstrained problems whose solutions ideally converge to the solution of the original constrained problem. The unconstrained problems are formed by adding a term, called a penalty function, to the objective function that consists of a penalty parameter multiplied by a measure of violation of the constraints. The measure of violation is nonzero when the constraints are violated and is zero in the region where constraints are not violated.\n",
    "### $$max z=f(x)$$\n",
    "#### $$s.t. g_i(x)=b_i , 1\\le i \\le m $$\n",
    " in this program we will be using following penalty function:\n",
    "$$B=f(x)-\\sum_{i=1}^{m}q_i(b_i-g_i(x))^2$$\n"
   ]
  },
  {
   "cell_type": "markdown",
   "id": "f1fa1c15",
   "metadata": {},
   "source": [
    "## $$ minimize$$$$ f(x,y)=x+y $$\n",
    "$$subject to $$\n",
    "$$g(x,y)=2x^2+y^2-5 $$\n",
    "$$B(x,y)=f(x,y)+ \\mu \\frac{(g(x,y))^2}{2}$$"
   ]
  },
  {
   "cell_type": "code",
   "execution_count": 1,
   "id": "ae163d68",
   "metadata": {},
   "outputs": [],
   "source": [
    "#importing needed library and packages\n",
    "%matplotlib inline\n",
    "import numpy as np\n",
    "from sympy import *\n"
   ]
  },
  {
   "cell_type": "code",
   "execution_count": 3,
   "id": "ae27cf0b",
   "metadata": {},
   "outputs": [],
   "source": [
    "# objective function gradient and Hessian\n",
    "def f(x,y): return x*y\n",
    "def grad_f(x,y): return np.array([1,1])\n",
    "def hess_f(x,y): return np.zeros((2,2))"
   ]
  },
  {
   "cell_type": "code",
   "execution_count": 4,
   "id": "667b183b",
   "metadata": {},
   "outputs": [],
   "source": [
    "# constrain function gradient and Hessian\n",
    "def g(x,y): return 2*x**2+y**2-5\n",
    "def grad_g(x,y): return np.array([4*x,2*y])\n",
    "def hess_g(x,y): return np.array([[4,2],[0,2]])"
   ]
  },
  {
   "cell_type": "code",
   "execution_count": 5,
   "id": "17801eff",
   "metadata": {},
   "outputs": [],
   "source": [
    "# function with penalty term\n",
    "def B(x,y,mu):\n",
    "    g0=g(x,y)\n",
    "    return f(x,y)+0.5*mu*g0*g0"
   ]
  },
  {
   "cell_type": "code",
   "execution_count": 10,
   "id": "ec10f63c",
   "metadata": {},
   "outputs": [],
   "source": [
    "# gradient hessian of penalty function\n",
    "def grad_B(x,y,mu):\n",
    "    return grad_f(x,y)+mu*g(x,y)*grad_g(x,y)\n",
    "def hess_B(x,y,mu):\n",
    "    gg=grad_g(x,y)\n",
    "    return hess_f(x,y)+mu*(g(x,y)*hess_g(x,y)+np.outer(gg,gg))"
   ]
  },
  {
   "cell_type": "code",
   "execution_count": 11,
   "id": "75a119d3",
   "metadata": {},
   "outputs": [],
   "source": [
    "#find stationary point of B penalty function\n",
    "def solve(z,mu):\n",
    "    s=1e10\n",
    "    sumhc=0;n=0\n",
    "    # do newton method until it falls below toleren\n",
    "    while np.linalg.norm(s)>1e-14:\n",
    "        #compute condition number of hessian to store its average value\n",
    "        hB=hess_B(z[0],z[1],mu)\n",
    "        sumhc+=np.linalg.cond(hB);n+=1\n",
    "        # perform newton step \n",
    "        s=np.linalg.solve(hB , -grad_B(z[0],z[1],mu))\n",
    "        z+=s\n",
    "    return (z,sumhc/n,n)\n"
   ]
  },
  {
   "cell_type": "code",
   "execution_count": 14,
   "id": "fc3b744c",
   "metadata": {},
   "outputs": [
    {
     "name": "stdout",
     "output_type": "stream",
     "text": [
      "1 [-0.93691282 -1.87382564] 51.30965651843518 47\n",
      "10 [-0.91536073 -1.83072147] 477.15628044515336 38\n",
      "100 [-0.91312083 -1.82624165] 4760.742947341712 41\n",
      "1000 [-0.91289593 -1.82579186] 47531.06699157655 38\n",
      "10000 [-0.91287343 -1.82574686] 474342.04652585334 35\n",
      "100000 [-0.91287118 -1.82574236] 4727292.941859353 31\n",
      "1000000 [-0.91287095 -1.82574191] 47121522.60322195 28\n",
      "10000000 [-0.91287093 -1.82574186] 469337359.5359879 25\n",
      "100000000 [-0.91287093 -1.82574186] 4659988404.1607895 21\n",
      "1000000000 [-0.91287093 -1.82574186] 46252117484.610016 18\n",
      "10000000000 [-0.91287093 -1.82574186] 457650400448.80865 15\n",
      "100000000000 [-0.91287093 -1.82574186] 4470508552523.418 11\n",
      "1000000000000 [-0.91287093 -1.82574186] 43211807110097.53 8\n"
     ]
    }
   ],
   "source": [
    "# Loop over range of values of mu\n",
    "mu=1\n",
    "z=np.array([-1.,-1.])\n",
    "while mu<1e13:\n",
    "    (z,avghc,n)=solve(z,mu)\n",
    "    print(mu,z,avghc,n)\n",
    "    mu*=10"
   ]
  },
  {
   "cell_type": "markdown",
   "id": "143e08d3",
   "metadata": {},
   "source": []
  }
 ],
 "metadata": {
  "kernelspec": {
   "display_name": "Python 3 (ipykernel)",
   "language": "python",
   "name": "python3"
  },
  "language_info": {
   "codemirror_mode": {
    "name": "ipython",
    "version": 3
   },
   "file_extension": ".py",
   "mimetype": "text/x-python",
   "name": "python",
   "nbconvert_exporter": "python",
   "pygments_lexer": "ipython3",
   "version": "3.9.6"
  }
 },
 "nbformat": 4,
 "nbformat_minor": 5
}
