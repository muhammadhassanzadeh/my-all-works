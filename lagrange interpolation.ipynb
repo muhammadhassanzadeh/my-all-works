{
 "cells": [
  {
   "cell_type": "markdown",
   "id": "4930d91e",
   "metadata": {},
   "source": [
    "# lagrange interpolation for M.r Dadvar project\n",
    "Muhammad Hassanzadeh\n",
    "## based on set of known cylindrical data like $n$ number of x and $m$ of $\\theta$ that we know $f(x_i,\\theta_j)$ we can write following formula and also for one x we have an arrays of equally disturbuted $\\theta$ and same size arry of $z=f(x_i,\\theta_j)$:\n",
    "### $$f(x,\\theta)=\\sum_{i=1}^{n}\\sum_{j=1}^{m}f(x_i,\\theta_j)\\prod_{j=1 j\\neg i}^{n}\\frac{x-x_j}{x_i -x_j}\\prod_{j=1 j\\neg i}^{m}\\frac{\\theta-\\theta_j}{\\theta_i -\\theta_j}$$\n"
   ]
  },
  {
   "cell_type": "code",
   "execution_count": 1,
   "id": "9f638246",
   "metadata": {},
   "outputs": [
    {
     "name": "stdout",
     "output_type": "stream",
     "text": [
      "please enter x enteriees by space seprat=1 2 3 4 5 6\n",
      "x= [1.0, 2.0, 3.0, 4.0, 5.0, 6.0]\n",
      "please enter y related by space for x0=1 2 3 4 1 2 3 4\n",
      "please enter y related by space for x1=1 2 6 7 8 9 10 11\n",
      "please enter y related by space for x2=8 9 11 12 1\n",
      "please enter y related by space for x3=12 13 14 15 16 \n",
      "please enter y related by space for x4=17 18 19 20 20\n",
      "please enter y related by space for x5=31 32 35 36 37 38\n"
     ]
    }
   ],
   "source": [
    "'''y=f(x,theta)  takes lenx rows of y (f) for each x enteries\n",
    "then devide 2pi by len of rows'''\n",
    "%matplotlib inline\n",
    "import numpy as np\n",
    "import matplotlib.pyplot as plt\n",
    "\n",
    "\n",
    "\n",
    "x=list(map(float,input(f'please enter x enteriees by space seprat=').split()))\n",
    "\n",
    "print('x=',x)\n",
    "y=[]\n",
    "\n",
    "for i in range(len(x)):\n",
    "    y.append(list(map(float,input(f'please enter y related by space for x{i}=').split())))\n",
    "thet_free=[]\n",
    "thetas=[]\n",
    "for i in range(len(x)):\n",
    "    t=len(y[i])\n",
    "    thetas.append(list())\n",
    "    for j in range(len(y[i])):\n",
    "        thetas[i].append((j*2 * np.pi) / t)\n",
    "        thet_free.append((j*2 * np.pi) / t)\n",
    "    thet_free.append(2*np.pi-0.001)\n",
    "\n",
    "\n"
   ]
  },
  {
   "cell_type": "code",
   "execution_count": 2,
   "id": "30359322",
   "metadata": {},
   "outputs": [],
   "source": [
    "savey=y\n",
    "savetheat=thetas"
   ]
  },
  {
   "cell_type": "code",
   "execution_count": 3,
   "id": "322f3b0b",
   "metadata": {},
   "outputs": [],
   "source": [
    "for i in range(len(x)):\n",
    "    thetas[i].append(2*np.pi-0.001)\n",
    "    y[i].append(y[i][0])\n",
    "    \n"
   ]
  },
  {
   "cell_type": "code",
   "execution_count": 4,
   "id": "b25a2b3f",
   "metadata": {},
   "outputs": [
    {
     "data": {
      "text/plain": [
       "([[1.0, 2.0, 3.0, 4.0, 1.0, 2.0, 3.0, 4.0, 1.0],\n",
       "  [1.0, 2.0, 6.0, 7.0, 8.0, 9.0, 10.0, 11.0, 1.0],\n",
       "  [8.0, 9.0, 11.0, 12.0, 1.0, 8.0],\n",
       "  [12.0, 13.0, 14.0, 15.0, 16.0, 12.0],\n",
       "  [17.0, 18.0, 19.0, 20.0, 20.0, 17.0],\n",
       "  [31.0, 32.0, 35.0, 36.0, 37.0, 38.0, 31.0]],\n",
       " [[0.0,\n",
       "   0.7853981633974483,\n",
       "   1.5707963267948966,\n",
       "   2.356194490192345,\n",
       "   3.141592653589793,\n",
       "   3.9269908169872414,\n",
       "   4.71238898038469,\n",
       "   5.497787143782138,\n",
       "   6.282185307179586],\n",
       "  [0.0,\n",
       "   0.7853981633974483,\n",
       "   1.5707963267948966,\n",
       "   2.356194490192345,\n",
       "   3.141592653589793,\n",
       "   3.9269908169872414,\n",
       "   4.71238898038469,\n",
       "   5.497787143782138,\n",
       "   6.282185307179586],\n",
       "  [0.0,\n",
       "   1.2566370614359172,\n",
       "   2.5132741228718345,\n",
       "   3.7699111843077517,\n",
       "   5.026548245743669,\n",
       "   6.282185307179586],\n",
       "  [0.0,\n",
       "   1.2566370614359172,\n",
       "   2.5132741228718345,\n",
       "   3.7699111843077517,\n",
       "   5.026548245743669,\n",
       "   6.282185307179586],\n",
       "  [0.0,\n",
       "   1.2566370614359172,\n",
       "   2.5132741228718345,\n",
       "   3.7699111843077517,\n",
       "   5.026548245743669,\n",
       "   6.282185307179586],\n",
       "  [0.0,\n",
       "   1.0471975511965976,\n",
       "   2.0943951023931953,\n",
       "   3.141592653589793,\n",
       "   4.1887902047863905,\n",
       "   5.235987755982989,\n",
       "   6.282185307179586]])"
      ]
     },
     "execution_count": 4,
     "metadata": {},
     "output_type": "execute_result"
    }
   ],
   "source": [
    "y,thetas"
   ]
  },
  {
   "cell_type": "code",
   "execution_count": 5,
   "id": "34805bd4",
   "metadata": {},
   "outputs": [
    {
     "name": "stdout",
     "output_type": "stream",
     "text": [
      "HERE WE CAN TEST OUR INTERPOLATION \n",
      "7.919792876367825\n",
      "[[1.0, 2.0, 3.0, 4.0, 1.0, 2.0, 3.0, 4.0, 1.0], [1.0, 2.0, 6.0, 7.0, 8.0, 9.0, 10.0, 11.0, 1.0], [8.0, 9.0, 11.0, 12.0, 1.0, 8.0], [12.0, 13.0, 14.0, 15.0, 16.0, 12.0], [17.0, 18.0, 19.0, 20.0, 20.0, 17.0], [31.0, 32.0, 35.0, 36.0, 37.0, 38.0, 31.0]]\n"
     ]
    }
   ],
   "source": [
    "\n",
    "\n",
    "def intp(a, b):\n",
    "    \"\"\"finding bi dimentional polar lagrang interpolationa\"\"\"\n",
    "    b=b%(2*np.pi)\n",
    "\n",
    "    prod = []\n",
    "\n",
    "    def lx(i):  # makes lenx+1 equation by order of lenx+1\n",
    "        p = 1\n",
    "        for j in x:\n",
    "            if j != x[i]:\n",
    "                p *= (a - j) / (x[i] - j)\n",
    "\n",
    "        return p\n",
    "\n",
    "    def ltheta(i, k):  # i , k ,  are indices but  j is element of y column\n",
    "        # making lenthetas +1 equation of order len thetas\n",
    "        p = 1\n",
    "        for j in thetas[i]:\n",
    "            if j != thetas[i][k]:\n",
    "                p *= (b - j) / (thetas[i][k] - j)\n",
    "        return p\n",
    "\n",
    "\n",
    "\n",
    "    for i in range(len(x)):  # index\n",
    "        for k in range(len(y[i])):\n",
    "            m = y[i][k] * lx(i)*ltheta(i,k)\n",
    "            prod.append(m)\n",
    "\n",
    "    return sum(prod)\n",
    "\n",
    "\n",
    "\n",
    "\n",
    "print(\"HERE WE CAN TEST OUR INTERPOLATION \")\n",
    "print(intp(3,6.28))\n",
    "\n",
    "\n",
    "print(y)\n"
   ]
  },
  {
   "cell_type": "code",
   "execution_count": null,
   "id": "f04519fa",
   "metadata": {},
   "outputs": [],
   "source": []
  },
  {
   "cell_type": "code",
   "execution_count": 6,
   "id": "3138b201",
   "metadata": {},
   "outputs": [
    {
     "name": "stdout",
     "output_type": "stream",
     "text": [
      "interpolation= 1.0 exact= 1.0\n",
      "interpolation= 2.0 exact= 2.0\n",
      "interpolation= 3.0 exact= 3.0\n",
      "interpolation= 4.0 exact= 4.0\n",
      "interpolation= 1.0 exact= 1.0\n",
      "interpolation= 2.0 exact= 2.0\n",
      "interpolation= 3.0 exact= 3.0\n",
      "interpolation= 4.0 exact= 4.0\n",
      "interpolation= 1.0 exact= 1.0\n",
      "interpolation= 1.0 exact= 1.0\n",
      "interpolation= 2.0 exact= 2.0\n",
      "interpolation= 6.0 exact= 6.0\n",
      "interpolation= 7.0 exact= 7.0\n",
      "interpolation= 8.0 exact= 8.0\n",
      "interpolation= 9.0 exact= 9.0\n",
      "interpolation= 10.0 exact= 10.0\n",
      "interpolation= 11.0 exact= 11.0\n",
      "interpolation= 1.0 exact= 1.0\n",
      "interpolation= 8.0 exact= 8.0\n",
      "interpolation= 9.0 exact= 9.0\n",
      "interpolation= 11.0 exact= 11.0\n",
      "interpolation= 12.0 exact= 12.0\n",
      "interpolation= 1.0 exact= 1.0\n",
      "interpolation= 8.0 exact= 8.0\n",
      "interpolation= 12.0 exact= 12.0\n",
      "interpolation= 13.0 exact= 13.0\n",
      "interpolation= 14.0 exact= 14.0\n",
      "interpolation= 15.0 exact= 15.0\n",
      "interpolation= 16.0 exact= 16.0\n",
      "interpolation= 12.0 exact= 12.0\n",
      "interpolation= 17.0 exact= 17.0\n",
      "interpolation= 18.0 exact= 18.0\n",
      "interpolation= 19.0 exact= 19.0\n",
      "interpolation= 20.0 exact= 20.0\n",
      "interpolation= 20.0 exact= 20.0\n",
      "interpolation= 17.0 exact= 17.0\n",
      "interpolation= 31.0 exact= 31.0\n",
      "interpolation= 32.0 exact= 32.0\n",
      "interpolation= 35.0 exact= 35.0\n",
      "interpolation= 36.0 exact= 36.0\n",
      "interpolation= 37.0 exact= 37.0\n",
      "interpolation= 38.0 exact= 38.0\n",
      "interpolation= 31.0 exact= 31.0\n"
     ]
    }
   ],
   "source": [
    "i=0\n",
    "for n in x:\n",
    "    j = 0\n",
    "    for m in thetas[i]:\n",
    "        print('interpolation=',intp(n,m),'exact=',y[i][j])\n",
    "        j += 1\n",
    "    i+=1\n"
   ]
  },
  {
   "cell_type": "code",
   "execution_count": 18,
   "id": "e112d95e",
   "metadata": {},
   "outputs": [
    {
     "data": {
      "image/png": "[encoded data removed]",
      "text/plain": [
       "<Figure size 432x288 with 1 Axes>"
      ]
     },
     "metadata": {
      "needs_background": "light"
     },
     "output_type": "display_data"
    }
   ],
   "source": [
    "fig, ax = plt.subplots(subplot_kw={\"projection\": \"3d\"})\n",
    "\n",
    "# Create the mesh in polar coordinates and compute corresponding Z.\n",
    "r = np.linspace(2, 7, 100)\n",
    "p = np.linspace(2,  10*np.pi-3,100)\n",
    "\n",
    "R, P = np.meshgrid(r, p)\n",
    "z=intp(R,P)\n",
    "\n",
    "\n",
    "\n",
    "\n",
    "# Express the mesh in the cartesian system.\n",
    "X, Y = R*np.cos(P), R*np.sin(P)\n",
    "\n",
    "# Plot the surface.\n",
    "\n",
    "surf = ax.plot_surface(X, Y, z, cmap=plt.cm.coolwarm,\n",
    "                       linewidth=0, antialiased=False)\n",
    "\n",
    "plt.show()\n"
   ]
  },
  {
   "cell_type": "code",
   "execution_count": null,
   "id": "52694f1b",
   "metadata": {},
   "outputs": [],
   "source": []
  }
 ],
 "metadata": {
  "kernelspec": {
   "display_name": "Python 3 (ipykernel)",
   "language": "python",
   "name": "python3"
  },
  "language_info": {
   "codemirror_mode": {
    "name": "ipython",
    "version": 3
   },
   "file_extension": ".py",
   "mimetype": "text/x-python",
   "name": "python",
   "nbconvert_exporter": "python",
   "pygments_lexer": "ipython3",
   "version": "3.9.6"
  }
 },
 "nbformat": 4,
 "nbformat_minor": 5
}
