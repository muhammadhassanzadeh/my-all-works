{
 "cells": [
  {
   "cell_type": "code",
   "execution_count": 2,
   "id": "ae61f00d",
   "metadata": {},
   "outputs": [],
   "source": [
    "import numpy as np #numerical python no need to for loops in arrays and data structures so fast and rapid\n",
    "import pandas as pd # great library for coping with matrices and its built on the numpy for data analysis\n",
    "import cv2#open source library for image... manupolatin and detectinfg stuff for machine learning hidden pattern\n",
    "#import skimage as io\n",
    "import matplotlib.pyplot as plt #for plotting and showing images"
   ]
  },
  {
   "cell_type": "code",
   "execution_count": null,
   "id": "45164dd7",
   "metadata": {},
   "outputs": [],
   "source": [
    "# # slicing np._s[::3] by Everey three steps there filtering the ndarray arr[liarr==2]\n",
    "# a=np.array([[1,2],[3,4]])\n",
    "# (a==2).any(axis=1)\n",
    "# a[[True,False]]\n",
    "# (img != 255.0).any(axis=2).shape\n",
    "# np.empty([])\n",
    "# np.s_[::3]"
   ]
  },
  {
   "cell_type": "code",
   "execution_count": 6,
   "id": "8bb455d8",
   "metadata": {},
   "outputs": [],
   "source": [
    "# how to negeta an image pixels \n",
    "\n",
    "img = cv2.imread(r'C:\\Users\\Acer\\Desktop\\neural network\\3.jpg')\n",
    "cv2.imshow(\"Pic\",img)\n",
    "img_not = cv2.bitwise_not(img)\n",
    "cv2.imshow(\"Invert1\",img_not)\n",
    "cv2.waitKey(0)\n",
    "cv2.destroyAllWindows()"
   ]
  },
  {
   "cell_type": "code",
   "execution_count": null,
   "id": "00cfc247",
   "metadata": {},
   "outputs": [],
   "source": [
    "img=cv2.imread(r'C:\\Users\\Acer\\Desktop\\neural network\\3.jpg',)\n",
    "capture=cv2.VideoCapture(0)#first webcam and one for second webcam\n",
    "while True:\n",
    "    ret ,frame=capture.read() #return fals if ur camera dont work\n",
    "    gray=cv2.cvtColor(frame,cv2.COLOR_BGR2GRAY)\n",
    "    cv2.imshow('GRAY',gray)\n",
    "    cv2.imshow('frame',frame)\n",
    "    if cv2.waitKey(1)==ord('q'):\n",
    "        break\n",
    "capture.release()\n",
    "cv2.destroyAllWindows()\n",
    "plt.imshow(img)\n",
    "\n",
    "img.shape"
   ]
  },
  {
   "cell_type": "code",
   "execution_count": null,
   "id": "2e5bfb6d",
   "metadata": {},
   "outputs": [],
   "source": [
    "plt.imshow(img[::-1]) #stepwise reversed"
   ]
  },
  {
   "cell_type": "code",
   "execution_count": null,
   "id": "38a59efa",
   "metadata": {},
   "outputs": [],
   "source": [
    "plt.imshow(img[ 20:200,600:850])"
   ]
  },
  {
   "cell_type": "code",
   "execution_count": null,
   "id": "c22c98d8",
   "metadata": {},
   "outputs": [],
   "source": [
    "plt.imshow(img[::2,::8])#steps got 2 and 8"
   ]
  },
  {
   "cell_type": "code",
   "execution_count": null,
   "id": "45c4f15c",
   "metadata": {},
   "outputs": [],
   "source": [
    "img_mask=np.where(img>100,0,255)\n",
    "plt.imshow(img_mask)"
   ]
  },
  {
   "cell_type": "code",
   "execution_count": null,
   "id": "4e23a359",
   "metadata": {},
   "outputs": [],
   "source": [
    "\n",
    "from PIL import Image\n",
    " \n",
    "# numpy for performing batch processing and elementwise\n",
    "# matrix operations efficiently\n",
    "import numpy as np\n",
    " \n",
    " \n",
    "# Opening an image, and saving open image object\n",
    "img = Image.open(r'C:\\Users\\Acer\\Desktop\\پایومو\\2hand written.png')\n",
    " \n",
    "# Creating an numpy array out of the image object\n",
    "img_arry = np.array(img)\n",
    " \n",
    "# Maximum intensity value of the color mode\n",
    "I_max = 255\n",
    " \n",
    "# Subtracting 255 (max value possible in a given image\n",
    "# channel) from each pixel values and storing the result\n",
    "img_arry = I_max - img_arry\n",
    " \n",
    "# Creating an image object from the resultant numpy array\n",
    "inverted_img = Image.fromarray(img_arry)\n",
    " \n",
    "# Saving the image under the name Image_negative.jpg\n",
    "inverted_img.save(r\"Image_negative.jpg\")"
   ]
  },
  {
   "cell_type": "code",
   "execution_count": null,
   "id": "acdc63c8",
   "metadata": {},
   "outputs": [],
   "source": [
    "img_sin=np.sin(img)\n",
    "img_sin>0.1"
   ]
  },
  {
   "cell_type": "code",
   "execution_count": null,
   "id": "bfe13470",
   "metadata": {},
   "outputs": [],
   "source": [
    "a0=np.zeros(7)\n",
    "a1=np.ones(7)\n",
    "a2=a1.shape #atribute shape alsoi works _jupyter array. press tab u will see all methods and attribut u can call or \n",
    "\n",
    "z1=np.random.randint(10, size=5)\n",
    "'''#if we type ? and name of array we will get all infos\n",
    "we can multyply and get innerproduct with arrays or even sum of them easily\n",
    "following methods can be used max min var std argmin mean sum prod all with prantethese \n",
    "argmin==is for index of maximum'''\n",
    "print(np.max(z1),z1.max(),z1.var())\n",
    "a0,a1,a2,type(a0),z1, a0+a1,a1*22+a0,a1@a0,z1.prod()"
   ]
  },
  {
   "cell_type": "code",
   "execution_count": null,
   "id": "0c0e0bcc",
   "metadata": {},
   "outputs": [],
   "source": [
    "half = cv2.resize(img, (0, 0), fx = 0.1, fy = 0.1)\n",
    "bigger = cv2.resize(img, (1050, 1610))\n",
    " \n",
    "stretch_near = cv2.resize(img, (780, 540),\n",
    "               interpolation = cv2.INTER_NEAREST)\n",
    " \n",
    " \n",
    "Titles =[\"Original\", \"Half\", \"Bigger\", \"Interpolation Nearest\"]\n",
    "images =[img, half, bigger, stretch_near]\n",
    "count = 4\n",
    " \n",
    "for i in range(count):\n",
    "    plt.subplot(2, 2, i + 1)\n",
    "    plt.title(Titles[i])\n",
    "    plt.imshow(images[i])\n",
    " \n",
    "plt.show()"
   ]
  },
  {
   "cell_type": "code",
   "execution_count": null,
   "id": "38e890e1",
   "metadata": {},
   "outputs": [],
   "source": [
    "from PIL import Image\n",
    "\n",
    "folder_path = \"C://Users/ABC/Images123\"\n",
    "for i in folder_path:\n",
    "    try:\n",
    "        img = Image.open(i)\n",
    "    except Exception:\n",
    "        pass"
   ]
  },
  {
   "cell_type": "code",
   "execution_count": null,
   "id": "8c59bec3",
   "metadata": {},
   "outputs": [],
   "source": [
    "#how to make an np aray to image and save it\n",
    "\n",
    "im = Image.fromarray(A)\n",
    "im.save(\"your_file.jpeg\")\n",
    "#how to asave a numpy array\n",
    "savetxt('data.csv', data, delimiter=',')"
   ]
  },
  {
   "cell_type": "code",
   "execution_count": 8,
   "id": "14217b7b",
   "metadata": {},
   "outputs": [
    {
     "data": {
      "text/plain": [
       "(8856, 32984, 112, 4104)"
      ]
     },
     "execution_count": 8,
     "metadata": {},
     "output_type": "execute_result"
    }
   ],
   "source": [
    "# generator() and list[] and set {} and unpacking operator which work for all elements\n",
    "#list unpacking *list list(range(5)=[*range(5)])\n",
    "#sets can be intersected or union or ...\n",
    "from sys import getsizeof\n",
    "import numpy as np\n",
    "alist=[x**2 for x in range(1000)]\n",
    "aarray=np.array(alist)\n",
    "aset={x**2 for x in range(1000)}\n",
    "agenerator=(x**2 for x in range(1000))\n",
    "getsizeof(alist),getsizeof(aset),getsizeof(agenerator),getsizeof(aarray)"
   ]
  },
  {
   "cell_type": "code",
   "execution_count": null,
   "id": "c62f25f2",
   "metadata": {},
   "outputs": [],
   "source": []
  },
  {
   "cell_type": "markdown",
   "id": "6935de29",
   "metadata": {},
   "source": [
    "# throwing exceptions"
   ]
  },
  {
   "cell_type": "code",
   "execution_count": null,
   "id": "14db8a89",
   "metadata": {},
   "outputs": [],
   "source": [
    "# value error exceptionz errors\n",
    "try :\n",
    "    #jhgljhg\n",
    "except ValueError: # we can use (,,,) for more errors\n",
    "    #kjb.kjb\n",
    "else:\n",
    "    #kjh.kjh.k\n",
    "finally:\n",
    "    #lkdhjglksh\n",
    "    \n",
    "    \n",
    "# or we can throw a error our self \n",
    "if age<=0:\n",
    "    raise ValueError\n",
    " "
   ]
  },
  {
   "cell_type": "markdown",
   "id": "d35d8460",
   "metadata": {},
   "source": [
    "# file and openning them"
   ]
  },
  {
   "cell_type": "code",
   "execution_count": null,
   "id": "82047b56",
   "metadata": {},
   "outputs": [],
   "source": [
    "with open('something.txt') as file:\n",
    "    file.\n",
    "# in python some files has file protocol which means they have 2 magic mathod consist of __exit__ , __enter__\n",
    "# so by with syntax there is no need to close the file after block any more"
   ]
  },
  {
   "cell_type": "code",
   "execution_count": null,
   "id": "3284f82d",
   "metadata": {},
   "outputs": [],
   "source": [
    "\"\"\"\n",
    "class is an object in python like list \n",
    "class or dictionariies so we call methods on them \n",
    "\"\"\"\n",
    "class a():\n",
    "    def __init__(self):\n",
    "        print('Im from a')\n",
    "class B(a):\n",
    "    \n",
    "    def test(self):\n",
    "        print('Im from B')\n",
    "B()"
   ]
  },
  {
   "cell_type": "markdown",
   "id": "806e09f2",
   "metadata": {},
   "source": [
    "# class magic methods\n",
    "for comparing or adding two object we define the sum or comparisons "
   ]
  },
  {
   "cell_type": "code",
   "execution_count": null,
   "id": "c560712a",
   "metadata": {},
   "outputs": [],
   "source": [
    "class a:\n",
    "    default_values=5#class atributes\n",
    "    # using constructor for\n",
    "    def __init__(self,var,x,y):#object or instace attributes\n",
    "        self.var=2\n",
    "        self.x=x\n",
    "        self.y=y\n",
    "        print('Im from a')\n",
    "    @classmethod \n",
    "    #decolator of class method for setting all variables to default\n",
    "    def zero(cls):\n",
    "        return a(0,0,3)\n",
    "    \n",
    "class B(a):\n",
    "    def __init__(self):\n",
    "        print('Im from B INIT part ')\n",
    "    def test(self):\n",
    "        print('Im from B')\n",
    "# B().test()\n",
    "print(a(5,3,5).var)"
   ]
  }
 ],
 "metadata": {
  "kernelspec": {
   "display_name": "Python 3 (ipykernel)",
   "language": "python",
   "name": "python3"
  },
  "language_info": {
   "codemirror_mode": {
    "name": "ipython",
    "version": 3
   },
   "file_extension": ".py",
   "mimetype": "text/x-python",
   "name": "python",
   "nbconvert_exporter": "python",
   "pygments_lexer": "ipython3",
   "version": "3.9.6"
  }
 },
 "nbformat": 4,
 "nbformat_minor": 5
}
