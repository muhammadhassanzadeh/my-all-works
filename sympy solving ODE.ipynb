{
 "cells": [
  {
   "cell_type": "markdown",
   "id": "bd240bea",
   "metadata": {},
   "source": [
    "# sympy solving ODE"
   ]
  },
  {
   "cell_type": "markdown",
   "id": "2c7ff158",
   "metadata": {},
   "source": [
    "using"
   ]
  },
  {
   "cell_type": "code",
   "execution_count": 1,
   "id": "36bfa7ba",
   "metadata": {},
   "outputs": [
    {
     "data": {
      "text/latex": [
       "$\\displaystyle \\frac{d}{d x} f{\\left(x \\right)}$"
      ],
      "text/plain": [
       "Derivative(f(x), x)"
      ]
     },
     "execution_count": 1,
     "metadata": {},
     "output_type": "execute_result"
    }
   ],
   "source": [
    "from sympy import *\n",
    "#creating variables\n",
    "x,y=symbols('x y')\n",
    "k,n,m=symbols('k n m',integer=True)\n",
    "\n",
    "f=Function('f')(x)\n",
    "\n",
    "df=Derivative(f,x)\n",
    "\n",
    "# init_printing()\n",
    "df"
   ]
  },
  {
   "cell_type": "code",
   "execution_count": 2,
   "id": "753d0ddf",
   "metadata": {},
   "outputs": [
    {
     "data": {
      "text/latex": [
       "$\\displaystyle \\frac{d}{d x} f{\\left(x \\right)}$"
      ],
      "text/plain": [
       "Derivative(f(x), x)"
      ]
     },
     "execution_count": 2,
     "metadata": {},
     "output_type": "execute_result"
    }
   ],
   "source": [
    "f.diff()"
   ]
  },
  {
   "cell_type": "code",
   "execution_count": 3,
   "id": "6b4c3fe1",
   "metadata": {},
   "outputs": [
    {
     "data": {
      "text/latex": [
       "$\\displaystyle \\int f{\\left(x \\right)}\\, dx$"
      ],
      "text/plain": [
       "Integral(f(x), x)"
      ]
     },
     "execution_count": 3,
     "metadata": {},
     "output_type": "execute_result"
    }
   ],
   "source": [
    "f.integrate()\n"
   ]
  },
  {
   "cell_type": "code",
   "execution_count": 4,
   "id": "db34db67",
   "metadata": {},
   "outputs": [
    {
     "data": {
      "text/latex": [
       "$\\displaystyle \\int f{\\left(x \\right)}\\, dx$"
      ],
      "text/plain": [
       "Integral(f(x), x)"
      ]
     },
     "execution_count": 4,
     "metadata": {},
     "output_type": "execute_result"
    }
   ],
   "source": [
    "Integral(f)"
   ]
  },
  {
   "cell_type": "code",
   "execution_count": 5,
   "id": "e44f34a1",
   "metadata": {},
   "outputs": [
    {
     "name": "stdout",
     "output_type": "stream",
     "text": [
      "Eq(Derivative(f(x), x) + Derivative(f(x), (x, 2)), x)\n"
     ]
    },
    {
     "data": {
      "text/latex": [
       "$\\displaystyle \\frac{d}{d x} f{\\left(x \\right)} + \\frac{d^{2}}{d x^{2}} f{\\left(x \\right)} = x$"
      ],
      "text/plain": [
       "Eq(Derivative(f(x), x) + Derivative(f(x), (x, 2)), x)"
      ]
     },
     "execution_count": 5,
     "metadata": {},
     "output_type": "execute_result"
    }
   ],
   "source": [
    "#creating ODE , rhs\n",
    "ode=Eq(f.diff(x,x)+df,x)\n",
    "print(ode)\n",
    "ode"
   ]
  },
  {
   "cell_type": "code",
   "execution_count": 6,
   "id": "fadd9fb4",
   "metadata": {},
   "outputs": [
    {
     "data": {
      "text/latex": [
       "$\\displaystyle f{\\left(x \\right)} = C_{1} + C_{2} e^{- x} + \\frac{x^{2}}{2} - x$"
      ],
      "text/plain": [
       "Eq(f(x), C1 + C2*exp(-x) + x**2/2 - x)"
      ]
     },
     "execution_count": 6,
     "metadata": {},
     "output_type": "execute_result"
    }
   ],
   "source": [
    "#getting the solution\n",
    "solution=dsolve(ode,f)\n",
    "\n",
    "solution"
   ]
  },
  {
   "cell_type": "code",
   "execution_count": null,
   "id": "424d1c1d",
   "metadata": {},
   "outputs": [],
   "source": [
    "solution.simplify(),solution.cancel(),solution.expand()"
   ]
  },
  {
   "cell_type": "code",
   "execution_count": 7,
   "id": "b5c57752",
   "metadata": {},
   "outputs": [
    {
     "data": {
      "text/plain": [
       "sympy.core.relational.Equality"
      ]
     },
     "execution_count": 7,
     "metadata": {},
     "output_type": "execute_result"
    }
   ],
   "source": [
    "type(solution)"
   ]
  },
  {
   "cell_type": "code",
   "execution_count": 8,
   "id": "d86ef1ea",
   "metadata": {},
   "outputs": [
    {
     "data": {
      "text/latex": [
       "$\\displaystyle \\frac{d}{d x} f{\\left(x \\right)} + \\frac{d^{2}}{d x^{2}} f{\\left(x \\right)}$"
      ],
      "text/plain": [
       "Derivative(f(x), x) + Derivative(f(x), (x, 2))"
      ]
     },
     "execution_count": 8,
     "metadata": {},
     "output_type": "execute_result"
    }
   ],
   "source": [
    "expression=ode.lhs\n",
    "expression"
   ]
  },
  {
   "cell_type": "code",
   "execution_count": 9,
   "id": "7658c074",
   "metadata": {},
   "outputs": [
    {
     "data": {
      "text/plain": [
       "(x, C1, C2)"
      ]
     },
     "execution_count": 9,
     "metadata": {},
     "output_type": "execute_result"
    }
   ],
   "source": [
    "#naming the constants in solusing list or tuples\n",
    "_,c2,c1=list(solution.free_symbols)\n",
    "_,c2,c1"
   ]
  },
  {
   "cell_type": "code",
   "execution_count": 10,
   "id": "c62feb19",
   "metadata": {},
   "outputs": [
    {
     "data": {
      "text/latex": [
       "$\\displaystyle \\frac{x^{2}}{2} - x + 2 + e^{- x}$"
      ],
      "text/plain": [
       "x**2/2 - x + 2 + exp(-x)"
      ]
     },
     "execution_count": 10,
     "metadata": {},
     "output_type": "execute_result"
    }
   ],
   "source": [
    "#we can use dictionary in subs built in function\n",
    "sol_rhs=solution.rhs\n",
    "sol_rhs.subs(c1,1).subs(c2,2)"
   ]
  },
  {
   "cell_type": "code",
   "execution_count": 11,
   "id": "f7fc36ee",
   "metadata": {},
   "outputs": [
    {
     "data": {
      "text/plain": [
       "{f(1): 0, f(2): 1}"
      ]
     },
     "execution_count": 11,
     "metadata": {},
     "output_type": "execute_result"
    }
   ],
   "source": [
    "#giving initial conditions by building dictionary\n",
    "ics={f.subs(x,1):0,f.subs(x,2):1}\n",
    "ics"
   ]
  },
  {
   "cell_type": "code",
   "execution_count": 12,
   "id": "c428090b",
   "metadata": {},
   "outputs": [
    {
     "data": {
      "text/latex": [
       "$\\displaystyle \\frac{x^{2}}{2} - x + \\frac{-1 + 2 e}{-2 + 2 e} - \\frac{e^{2} e^{- x}}{-2 + 2 e}$"
      ],
      "text/plain": [
       "x**2/2 - x + (-1 + 2*E)/(-2 + 2*E) - exp(2)*exp(-x)/(-2 + 2*E)"
      ]
     },
     "execution_count": 12,
     "metadata": {},
     "output_type": "execute_result"
    }
   ],
   "source": [
    "#solving the initial value problem\n",
    "ivp=dsolve(ode,ics=ics).rhs\n",
    "ivp"
   ]
  },
  {
   "cell_type": "code",
   "execution_count": 13,
   "id": "d7d18bd6",
   "metadata": {},
   "outputs": [
    {
     "data": {
      "text/latex": [
       "$\\displaystyle x$"
      ],
      "text/plain": [
       "x"
      ]
     },
     "execution_count": 13,
     "metadata": {},
     "output_type": "execute_result"
    }
   ],
   "source": [
    "#checking if its satisfies our ode\n",
    "(ivp.diff(x,x)+ivp.diff(x)).simplify()"
   ]
  },
  {
   "cell_type": "code",
   "execution_count": 14,
   "id": "eadb8396",
   "metadata": {},
   "outputs": [
    {
     "data": {
      "text/latex": [
       "$\\displaystyle x$"
      ],
      "text/plain": [
       "x"
      ]
     },
     "execution_count": 14,
     "metadata": {},
     "output_type": "execute_result"
    }
   ],
   "source": [
    "#checking if its satisfies our ode with unbounded \n",
    "(sol_rhs.diff(x,x)+sol_rhs.diff(x)).simplify()"
   ]
  },
  {
   "cell_type": "code",
   "execution_count": 15,
   "id": "8c76fcf4",
   "metadata": {},
   "outputs": [
    {
     "ename": "KeyboardInterrupt",
     "evalue": "Interrupted by user",
     "output_type": "error",
     "traceback": [
      "\u001b[1;31m---------------------------------------------------------------------------\u001b[0m",
      "\u001b[1;31mKeyboardInterrupt\u001b[0m                         Traceback (most recent call last)",
      "\u001b[1;32m~\\AppData\\Local\\Temp/ipykernel_9064/3839032113.py\u001b[0m in \u001b[0;36m<module>\u001b[1;34m\u001b[0m\n\u001b[1;32m----> 1\u001b[1;33m \u001b[0mg\u001b[0m\u001b[1;33m=\u001b[0m\u001b[0mEq\u001b[0m\u001b[1;33m(\u001b[0m\u001b[0mFunction\u001b[0m\u001b[1;33m(\u001b[0m\u001b[1;34m'g'\u001b[0m\u001b[1;33m)\u001b[0m\u001b[1;33m(\u001b[0m\u001b[0mx\u001b[0m\u001b[1;33m)\u001b[0m\u001b[1;33m,\u001b[0m\u001b[0meval\u001b[0m\u001b[1;33m(\u001b[0m\u001b[0minput\u001b[0m\u001b[1;33m(\u001b[0m\u001b[1;33m)\u001b[0m\u001b[1;33m)\u001b[0m\u001b[1;33m)\u001b[0m\u001b[1;33m\u001b[0m\u001b[1;33m\u001b[0m\u001b[0m\n\u001b[0m\u001b[0;32m      2\u001b[0m \u001b[0mg\u001b[0m\u001b[1;33m\u001b[0m\u001b[1;33m\u001b[0m\u001b[0m\n",
      "\u001b[1;32m~\\AppData\\Local\\Programs\\Python\\Python39\\lib\\site-packages\\ipykernel\\kernelbase.py\u001b[0m in \u001b[0;36mraw_input\u001b[1;34m(self, prompt)\u001b[0m\n\u001b[0;32m   1004\u001b[0m                 \u001b[1;34m\"raw_input was called, but this frontend does not support input requests.\"\u001b[0m\u001b[1;33m\u001b[0m\u001b[1;33m\u001b[0m\u001b[0m\n\u001b[0;32m   1005\u001b[0m             )\n\u001b[1;32m-> 1006\u001b[1;33m         return self._input_request(\n\u001b[0m\u001b[0;32m   1007\u001b[0m             \u001b[0mstr\u001b[0m\u001b[1;33m(\u001b[0m\u001b[0mprompt\u001b[0m\u001b[1;33m)\u001b[0m\u001b[1;33m,\u001b[0m\u001b[1;33m\u001b[0m\u001b[1;33m\u001b[0m\u001b[0m\n\u001b[0;32m   1008\u001b[0m             \u001b[0mself\u001b[0m\u001b[1;33m.\u001b[0m\u001b[0m_parent_ident\u001b[0m\u001b[1;33m[\u001b[0m\u001b[1;34m\"shell\"\u001b[0m\u001b[1;33m]\u001b[0m\u001b[1;33m,\u001b[0m\u001b[1;33m\u001b[0m\u001b[1;33m\u001b[0m\u001b[0m\n",
      "\u001b[1;32m~\\AppData\\Local\\Programs\\Python\\Python39\\lib\\site-packages\\ipykernel\\kernelbase.py\u001b[0m in \u001b[0;36m_input_request\u001b[1;34m(self, prompt, ident, parent, password)\u001b[0m\n\u001b[0;32m   1049\u001b[0m             \u001b[1;32mexcept\u001b[0m \u001b[0mKeyboardInterrupt\u001b[0m\u001b[1;33m:\u001b[0m\u001b[1;33m\u001b[0m\u001b[1;33m\u001b[0m\u001b[0m\n\u001b[0;32m   1050\u001b[0m                 \u001b[1;31m# re-raise KeyboardInterrupt, to truncate traceback\u001b[0m\u001b[1;33m\u001b[0m\u001b[1;33m\u001b[0m\u001b[1;33m\u001b[0m\u001b[0m\n\u001b[1;32m-> 1051\u001b[1;33m                 \u001b[1;32mraise\u001b[0m \u001b[0mKeyboardInterrupt\u001b[0m\u001b[1;33m(\u001b[0m\u001b[1;34m\"Interrupted by user\"\u001b[0m\u001b[1;33m)\u001b[0m \u001b[1;32mfrom\u001b[0m \u001b[1;32mNone\u001b[0m\u001b[1;33m\u001b[0m\u001b[1;33m\u001b[0m\u001b[0m\n\u001b[0m\u001b[0;32m   1052\u001b[0m             \u001b[1;32mexcept\u001b[0m \u001b[0mException\u001b[0m\u001b[1;33m:\u001b[0m\u001b[1;33m\u001b[0m\u001b[1;33m\u001b[0m\u001b[0m\n\u001b[0;32m   1053\u001b[0m                 \u001b[0mself\u001b[0m\u001b[1;33m.\u001b[0m\u001b[0mlog\u001b[0m\u001b[1;33m.\u001b[0m\u001b[0mwarning\u001b[0m\u001b[1;33m(\u001b[0m\u001b[1;34m\"Invalid Message:\"\u001b[0m\u001b[1;33m,\u001b[0m \u001b[0mexc_info\u001b[0m\u001b[1;33m=\u001b[0m\u001b[1;32mTrue\u001b[0m\u001b[1;33m)\u001b[0m\u001b[1;33m\u001b[0m\u001b[1;33m\u001b[0m\u001b[0m\n",
      "\u001b[1;31mKeyboardInterrupt\u001b[0m: Interrupted by user"
     ]
    }
   ],
   "source": [
    "g=Eq(Function('g')(x),eval(input()))\n",
    "g"
   ]
  },
  {
   "cell_type": "code",
   "execution_count": null,
   "id": "48e91a7d",
   "metadata": {},
   "outputs": [],
   "source": [
    "c=Eq(g.rhs**g.rhs.diff(x,x),0)\n",
    "c"
   ]
  },
  {
   "cell_type": "code",
   "execution_count": null,
   "id": "683fec1f",
   "metadata": {},
   "outputs": [],
   "source": [
    "\n",
    "\n",
    "  \n",
    "x, y, z = symbols('x y z')\n",
    "gfg_exp = x + y + z\n",
    "exp = expand(gfg_exp**2)\n",
    "  \n",
    "# Use sympy.factor() method\n",
    "fact = factor(exp)\n",
    "  \n",
    "print(fact)\n"
   ]
  },
  {
   "cell_type": "code",
   "execution_count": null,
   "id": "dfd948ae",
   "metadata": {},
   "outputs": [],
   "source": [
    " cancel((x**2 + 2*x + 1)/(x**2 + x))"
   ]
  },
  {
   "cell_type": "code",
   "execution_count": null,
   "id": "f5c8d37b",
   "metadata": {},
   "outputs": [],
   "source": [
    "eq= x*y + x - 3 + 2*x**2 - z*x**2 + x**3\n",
    "collected_expr = collect(eq, x,evaluate=False)\n",
    "collected_expr1 = collect(eq, x)\n",
    "collected_expr,collected_expr1 "
   ]
  },
  {
   "cell_type": "code",
   "execution_count": null,
   "id": "b8721828",
   "metadata": {},
   "outputs": [],
   "source": [
    "f = 3 * x**3 + 2 * x**2 + x * y + y**3 + 1\n",
    "order = 2\n",
    "\n",
    "coeffs = Poly(f, x).coeffs()\n",
    "f_new = sum(x**n * coeffs[-(n+1)] for n in range(order+1)) # the +1 is to get 0th order\n",
    "f_new\n"
   ]
  }
 ],
 "metadata": {
  "kernelspec": {
   "display_name": "Python 3 (ipykernel)",
   "language": "python",
   "name": "python3"
  },
  "language_info": {
   "codemirror_mode": {
    "name": "ipython",
    "version": 3
   },
   "file_extension": ".py",
   "mimetype": "text/x-python",
   "name": "python",
   "nbconvert_exporter": "python",
   "pygments_lexer": "ipython3",
   "version": "3.9.6"
  }
 },
 "nbformat": 4,
 "nbformat_minor": 5
}
