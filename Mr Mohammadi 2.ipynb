{
 "cells": [
  {
   "attachments": {},
   "cell_type": "markdown",
   "id": "7f705095",
   "metadata": {},
   "source": [
    "\n",
    "# superwiser: Dr Aghile Heydari\n",
    "## Mr MOHAMMADI\n",
    "## first Question\n",
    "\n",
    "# Ponts Yagine Model"
   ]
  },
  {
   "cell_type": "code",
   "execution_count": 2,
   "id": "80f62c16",
   "metadata": {},
   "outputs": [
    {
     "name": "stdout",
     "output_type": "stream",
     "text": [
      "please enter integral coefficiont=0.5\n",
      "please enter t0=1\n",
      "please enter t1=2\n",
      "please enter integral  =x**2+u**2\n"
     ]
    },
    {
     "data": {
      "text/latex": [
       "$\\displaystyle f{\\left(u{\\left( t   \\right)} \\right)} = \\frac{\\int\\limits_{1}^{2} \\left(u^{2}{\\left( t   \\right)} + x^{2}{\\left( t   \\right)}\\right)\\, d t  }{2}$"
      ],
      "text/plain": [
       "Eq(f(u( t  )), Integral(u( t  )**2 + x( t  )**2, ( t  , 1, 2))/2)"
      ]
     },
     "metadata": {},
     "output_type": "display_data"
    },
    {
     "name": "stdout",
     "output_type": "stream",
     "text": [
      "in x(t)   t=0\n",
      "please enter value of x(t)=1\n",
      "in p(t)    t=2\n",
      "please enter value for p(t)=0\n",
      "please enter value for p(0)=1\n",
      "please enter x dot  =u\n",
      "this is Hamilotian equation\n"
     ]
    },
    {
     "data": {
      "text/latex": [
       "$\\displaystyle H{\\left(x{\\left( t   \\right)},u{\\left( t   \\right)},p{\\left( t   \\right)}, t   \\right)} = p{\\left( t   \\right)} u{\\left( t   \\right)} + \\frac{u^{2}{\\left( t   \\right)}}{2} + \\frac{x^{2}{\\left( t   \\right)}}{2}$"
      ],
      "text/plain": [
       "Eq(H(x( t  ), u( t  ), p( t  ),  t  ), p( t  )*u( t  ) + u( t  )**2/2 + x( t  )**2/2)"
      ]
     },
     "metadata": {},
     "output_type": "display_data"
    },
    {
     "name": "stdout",
     "output_type": "stream",
     "text": [
      "this is same_condition equation\n"
     ]
    },
    {
     "data": {
      "text/latex": [
       "$\\displaystyle \\frac{d}{d  t  } p{\\left( t   \\right)} = - x{\\left( t   \\right)}$"
      ],
      "text/plain": [
       "Eq(Derivative(p( t  ),  t  ), -x( t  ))"
      ]
     },
     "metadata": {},
     "output_type": "display_data"
    },
    {
     "name": "stdout",
     "output_type": "stream",
     "text": [
      "this solution to x(t)\n"
     ]
    },
    {
     "data": {
      "text/latex": [
       "$\\displaystyle x{\\left( t   \\right)} = \\frac{\\left(- 3 \\sqrt{2} e^{2 \\sqrt{2}  t  } \\int x{\\left( t   \\right)} e^{- \\sqrt{2}  t  }\\, d t   - 4 e^{2 \\sqrt{2}  t  } \\int x{\\left( t   \\right)} e^{- \\sqrt{2}  t  }\\, d t   - \\sqrt{2} e^{2 \\sqrt{2}  t  } \\int\\limits^{2} x{\\left( t   \\right)} e^{\\sqrt{2}  t  }\\, d t   + 2 e^{2 \\sqrt{2}  t  } + 2 \\sqrt{2} e^{2 \\sqrt{2}  t  } - \\sqrt{2} e^{2 \\sqrt{2} \\left( t   + 2\\right)} \\int x{\\left( t   \\right)} e^{- \\sqrt{2}  t  }\\, d t   + \\sqrt{2} e^{2 \\sqrt{2} \\left( t   + 2\\right)} \\int\\limits^{2} x{\\left( t   \\right)} e^{- \\sqrt{2}  t  }\\, d t   - \\sqrt{2} e^{4 \\sqrt{2}} \\int\\limits^{2} x{\\left( t   \\right)} e^{- \\sqrt{2}  t  }\\, d t   - 3 \\sqrt{2} e^{4 \\sqrt{2}} \\int x{\\left( t   \\right)} e^{\\sqrt{2}  t  }\\, d t   - \\sqrt{2} \\int x{\\left( t   \\right)} e^{\\sqrt{2}  t  }\\, d t   + 4 e^{4 \\sqrt{2}} \\int x{\\left( t   \\right)} e^{\\sqrt{2}  t  }\\, d t   + \\sqrt{2} \\int\\limits^{2} x{\\left( t   \\right)} e^{\\sqrt{2}  t  }\\, d t   - 2 e^{4 \\sqrt{2}} + 2 \\sqrt{2} e^{4 \\sqrt{2}}\\right) e^{- \\sqrt{2}  t  }}{4 \\left(- e^{4 \\sqrt{2}} + 1 + \\sqrt{2} + \\sqrt{2} e^{4 \\sqrt{2}}\\right)}$"
      ],
      "text/plain": [
       "Eq(x( t  ), (-3*sqrt(2)*exp(2*sqrt(2)* t  )*Integral(x( t  )*exp(-sqrt(2)* t  ),  t  ) - 4*exp(2*sqrt(2)* t  )*Integral(x( t  )*exp(-sqrt(2)* t  ),  t  ) - sqrt(2)*exp(2*sqrt(2)* t  )*Integral(x( t  )*exp(sqrt(2)* t  ), ( t  , 2)) + 2*exp(2*sqrt(2)* t  ) + 2*sqrt(2)*exp(2*sqrt(2)* t  ) - sqrt(2)*exp(2*sqrt(2)*( t   + 2))*Integral(x( t  )*exp(-sqrt(2)* t  ),  t  ) + sqrt(2)*exp(2*sqrt(2)*( t   + 2))*Integral(x( t  )*exp(-sqrt(2)* t  ), ( t  , 2)) - sqrt(2)*exp(4*sqrt(2))*Integral(x( t  )*exp(-sqrt(2)* t  ), ( t  , 2)) - 3*sqrt(2)*exp(4*sqrt(2))*Integral(x( t  )*exp(sqrt(2)* t  ),  t  ) - sqrt(2)*Integral(x( t  )*exp(sqrt(2)* t  ),  t  ) + 4*exp(4*sqrt(2))*Integral(x( t  )*exp(sqrt(2)* t  ),  t  ) + sqrt(2)*Integral(x( t  )*exp(sqrt(2)* t  ), ( t  , 2)) - 2*exp(4*sqrt(2)) + 2*sqrt(2)*exp(4*sqrt(2)))*exp(-sqrt(2)* t  )/(4*(-exp(4*sqrt(2)) + 1 + sqrt(2) + sqrt(2)*exp(4*sqrt(2)))))"
      ]
     },
     "metadata": {},
     "output_type": "display_data"
    },
    {
     "name": "stdout",
     "output_type": "stream",
     "text": [
      "this is solution to u(t)\n"
     ]
    },
    {
     "data": {
      "text/latex": [
       "$\\displaystyle - \\left(\\frac{\\sqrt{2} \\int x{\\left( t   \\right)} e^{- \\sqrt{2}  t  }\\, d t  }{4} - \\frac{2 e^{4 \\sqrt{2}} \\int\\limits^{2} x{\\left( t   \\right)} e^{- \\sqrt{2}  t  }\\, d t  }{- 4 e^{4 \\sqrt{2}} + 4 + 4 \\sqrt{2} + 4 \\sqrt{2} e^{4 \\sqrt{2}}} + \\frac{\\sqrt{2} e^{4 \\sqrt{2}} \\int\\limits^{2} x{\\left( t   \\right)} e^{- \\sqrt{2}  t  }\\, d t  }{- 4 e^{4 \\sqrt{2}} + 4 + 4 \\sqrt{2} + 4 \\sqrt{2} e^{4 \\sqrt{2}}} - \\frac{\\sqrt{2} \\int\\limits^{2} x{\\left( t   \\right)} e^{\\sqrt{2}  t  }\\, d t  }{- 4 e^{4 \\sqrt{2}} + 4 + 4 \\sqrt{2} + 4 \\sqrt{2} e^{4 \\sqrt{2}}} + \\frac{2 \\int\\limits^{2} x{\\left( t   \\right)} e^{\\sqrt{2}  t  }\\, d t  }{- 4 e^{4 \\sqrt{2}} + 4 + 4 \\sqrt{2} + 4 \\sqrt{2} e^{4 \\sqrt{2}}} - \\frac{2 \\int\\limits^{0} e^{- \\sqrt{2}  t  }\\, d t  }{- 4 e^{4 \\sqrt{2}} + 4 + 4 \\sqrt{2} + 4 \\sqrt{2} e^{4 \\sqrt{2}}} - \\frac{\\sqrt{2} \\int\\limits^{0} e^{- \\sqrt{2}  t  }\\, d t  }{- 4 e^{4 \\sqrt{2}} + 4 + 4 \\sqrt{2} + 4 \\sqrt{2} e^{4 \\sqrt{2}}} - \\frac{2 \\int\\limits^{0} e^{\\sqrt{2}  t  }\\, d t  }{- 4 e^{4 \\sqrt{2}} + 4 + 4 \\sqrt{2} + 4 \\sqrt{2} e^{4 \\sqrt{2}}} + \\frac{\\sqrt{2} \\int\\limits^{0} e^{\\sqrt{2}  t  }\\, d t  }{- 4 e^{4 \\sqrt{2}} + 4 + 4 \\sqrt{2} + 4 \\sqrt{2} e^{4 \\sqrt{2}}} - \\frac{4}{- 4 e^{4 \\sqrt{2}} + 4 + 4 \\sqrt{2} + 4 \\sqrt{2} e^{4 \\sqrt{2}}}\\right) e^{\\sqrt{2}  t  } - \\left(- \\frac{2 e^{4 \\sqrt{2}} \\int\\limits^{2} x{\\left( t   \\right)} e^{- \\sqrt{2}  t  }\\, d t  }{- 4 e^{4 \\sqrt{2}} + 4 + 4 \\sqrt{2} + 4 \\sqrt{2} e^{4 \\sqrt{2}}} - \\frac{\\sqrt{2} e^{4 \\sqrt{2}} \\int\\limits^{2} x{\\left( t   \\right)} e^{- \\sqrt{2}  t  }\\, d t  }{- 4 e^{4 \\sqrt{2}} + 4 + 4 \\sqrt{2} + 4 \\sqrt{2} e^{4 \\sqrt{2}}} - \\frac{\\sqrt{2} \\int x{\\left( t   \\right)} e^{\\sqrt{2}  t  }\\, d t  }{4} + \\frac{\\sqrt{2} \\int\\limits^{2} x{\\left( t   \\right)} e^{\\sqrt{2}  t  }\\, d t  }{- 4 e^{4 \\sqrt{2}} + 4 + 4 \\sqrt{2} + 4 \\sqrt{2} e^{4 \\sqrt{2}}} + \\frac{2 \\int\\limits^{2} x{\\left( t   \\right)} e^{\\sqrt{2}  t  }\\, d t  }{- 4 e^{4 \\sqrt{2}} + 4 + 4 \\sqrt{2} + 4 \\sqrt{2} e^{4 \\sqrt{2}}} + \\frac{\\sqrt{2} e^{4 \\sqrt{2}} \\int\\limits^{0} e^{- \\sqrt{2}  t  }\\, d t  }{- 4 e^{4 \\sqrt{2}} + 4 + 4 \\sqrt{2} + 4 \\sqrt{2} e^{4 \\sqrt{2}}} + \\frac{2 e^{4 \\sqrt{2}} \\int\\limits^{0} e^{- \\sqrt{2}  t  }\\, d t  }{- 4 e^{4 \\sqrt{2}} + 4 + 4 \\sqrt{2} + 4 \\sqrt{2} e^{4 \\sqrt{2}}} - \\frac{\\sqrt{2} e^{4 \\sqrt{2}} \\int\\limits^{0} e^{\\sqrt{2}  t  }\\, d t  }{- 4 e^{4 \\sqrt{2}} + 4 + 4 \\sqrt{2} + 4 \\sqrt{2} e^{4 \\sqrt{2}}} + \\frac{2 e^{4 \\sqrt{2}} \\int\\limits^{0} e^{\\sqrt{2}  t  }\\, d t  }{- 4 e^{4 \\sqrt{2}} + 4 + 4 \\sqrt{2} + 4 \\sqrt{2} e^{4 \\sqrt{2}}} + \\frac{4 e^{4 \\sqrt{2}}}{- 4 e^{4 \\sqrt{2}} + 4 + 4 \\sqrt{2} + 4 \\sqrt{2} e^{4 \\sqrt{2}}}\\right) e^{- \\sqrt{2}  t  }$"
      ],
      "text/plain": [
       "-(sqrt(2)*Integral(x( t  )*exp(-sqrt(2)* t  ),  t  )/4 - 2*exp(4*sqrt(2))*Integral(x( t  )*exp(-sqrt(2)* t  ), ( t  , 2))/(-4*exp(4*sqrt(2)) + 4 + 4*sqrt(2) + 4*sqrt(2)*exp(4*sqrt(2))) + sqrt(2)*exp(4*sqrt(2))*Integral(x( t  )*exp(-sqrt(2)* t  ), ( t  , 2))/(-4*exp(4*sqrt(2)) + 4 + 4*sqrt(2) + 4*sqrt(2)*exp(4*sqrt(2))) - sqrt(2)*Integral(x( t  )*exp(sqrt(2)* t  ), ( t  , 2))/(-4*exp(4*sqrt(2)) + 4 + 4*sqrt(2) + 4*sqrt(2)*exp(4*sqrt(2))) + 2*Integral(x( t  )*exp(sqrt(2)* t  ), ( t  , 2))/(-4*exp(4*sqrt(2)) + 4 + 4*sqrt(2) + 4*sqrt(2)*exp(4*sqrt(2))) - 2*Integral(exp(-sqrt(2)* t  ), ( t  , 0))/(-4*exp(4*sqrt(2)) + 4 + 4*sqrt(2) + 4*sqrt(2)*exp(4*sqrt(2))) - sqrt(2)*Integral(exp(-sqrt(2)* t  ), ( t  , 0))/(-4*exp(4*sqrt(2)) + 4 + 4*sqrt(2) + 4*sqrt(2)*exp(4*sqrt(2))) - 2*Integral(exp(sqrt(2)* t  ), ( t  , 0))/(-4*exp(4*sqrt(2)) + 4 + 4*sqrt(2) + 4*sqrt(2)*exp(4*sqrt(2))) + sqrt(2)*Integral(exp(sqrt(2)* t  ), ( t  , 0))/(-4*exp(4*sqrt(2)) + 4 + 4*sqrt(2) + 4*sqrt(2)*exp(4*sqrt(2))) - 4/(-4*exp(4*sqrt(2)) + 4 + 4*sqrt(2) + 4*sqrt(2)*exp(4*sqrt(2))))*exp(sqrt(2)* t  ) - (-2*exp(4*sqrt(2))*Integral(x( t  )*exp(-sqrt(2)* t  ), ( t  , 2))/(-4*exp(4*sqrt(2)) + 4 + 4*sqrt(2) + 4*sqrt(2)*exp(4*sqrt(2))) - sqrt(2)*exp(4*sqrt(2))*Integral(x( t  )*exp(-sqrt(2)* t  ), ( t  , 2))/(-4*exp(4*sqrt(2)) + 4 + 4*sqrt(2) + 4*sqrt(2)*exp(4*sqrt(2))) - sqrt(2)*Integral(x( t  )*exp(sqrt(2)* t  ),  t  )/4 + sqrt(2)*Integral(x( t  )*exp(sqrt(2)* t  ), ( t  , 2))/(-4*exp(4*sqrt(2)) + 4 + 4*sqrt(2) + 4*sqrt(2)*exp(4*sqrt(2))) + 2*Integral(x( t  )*exp(sqrt(2)* t  ), ( t  , 2))/(-4*exp(4*sqrt(2)) + 4 + 4*sqrt(2) + 4*sqrt(2)*exp(4*sqrt(2))) + sqrt(2)*exp(4*sqrt(2))*Integral(exp(-sqrt(2)* t  ), ( t  , 0))/(-4*exp(4*sqrt(2)) + 4 + 4*sqrt(2) + 4*sqrt(2)*exp(4*sqrt(2))) + 2*exp(4*sqrt(2))*Integral(exp(-sqrt(2)* t  ), ( t  , 0))/(-4*exp(4*sqrt(2)) + 4 + 4*sqrt(2) + 4*sqrt(2)*exp(4*sqrt(2))) - sqrt(2)*exp(4*sqrt(2))*Integral(exp(sqrt(2)* t  ), ( t  , 0))/(-4*exp(4*sqrt(2)) + 4 + 4*sqrt(2) + 4*sqrt(2)*exp(4*sqrt(2))) + 2*exp(4*sqrt(2))*Integral(exp(sqrt(2)* t  ), ( t  , 0))/(-4*exp(4*sqrt(2)) + 4 + 4*sqrt(2) + 4*sqrt(2)*exp(4*sqrt(2))) + 4*exp(4*sqrt(2))/(-4*exp(4*sqrt(2)) + 4 + 4*sqrt(2) + 4*sqrt(2)*exp(4*sqrt(2))))*exp(-sqrt(2)* t  )"
      ]
     },
     "metadata": {},
     "output_type": "display_data"
    },
    {
     "name": "stdout",
     "output_type": "stream",
     "text": [
      "[1.         1.11111111 1.22222222 1.33333333 1.44444444 1.55555556\n",
      " 1.66666667 1.77777778 1.88888889 2.        ] "
     ]
    },
    {
     "name": "stderr",
     "output_type": "stream",
     "text": [
      "IOPub data rate exceeded.\n",
      "The notebook server will temporarily stop sending output\n",
      "to the client in order to avoid crashing it.\n",
      "To change this limit, set the config variable\n",
      "`--NotebookApp.iopub_data_rate_limit`.\n",
      "\n",
      "Current values:\n",
      "NotebookApp.iopub_data_rate_limit=1000000.0 (bytes/sec)\n",
      "NotebookApp.rate_limit_window=3.0 (secs)\n",
      "\n"
     ]
    },
    {
     "ename": "TypeError",
     "evalue": "can't convert complex to float",
     "output_type": "error",
     "traceback": [
      "\u001b[1;31m---------------------------------------------------------------------------\u001b[0m",
      "\u001b[1;31mTypeError\u001b[0m                                 Traceback (most recent call last)",
      "\u001b[1;32m~\\AppData\\Local\\Temp/ipykernel_2332/977074122.py\u001b[0m in \u001b[0;36m<module>\u001b[1;34m\u001b[0m\n\u001b[0;32m     58\u001b[0m \u001b[0mplt\u001b[0m\u001b[1;33m.\u001b[0m\u001b[0mxlabel\u001b[0m\u001b[1;33m(\u001b[0m\u001b[1;34m\"t0 to t1: time\"\u001b[0m\u001b[1;33m)\u001b[0m\u001b[1;33m\u001b[0m\u001b[1;33m\u001b[0m\u001b[0m\n\u001b[0;32m     59\u001b[0m \u001b[0mplt\u001b[0m\u001b[1;33m.\u001b[0m\u001b[0mylabel\u001b[0m\u001b[1;33m(\u001b[0m\u001b[1;34m\"F(u(t))\"\u001b[0m\u001b[1;33m)\u001b[0m\u001b[1;33m\u001b[0m\u001b[1;33m\u001b[0m\u001b[0m\n\u001b[1;32m---> 60\u001b[1;33m \u001b[0mplt\u001b[0m\u001b[1;33m.\u001b[0m\u001b[0mplot\u001b[0m\u001b[1;33m(\u001b[0m \u001b[0mzz\u001b[0m\u001b[1;33m,\u001b[0m \u001b[0myy\u001b[0m\u001b[1;33m,\u001b[0m \u001b[1;34m'r--'\u001b[0m \u001b[1;33m,\u001b[0m\u001b[0mlabel\u001b[0m\u001b[1;33m=\u001b[0m\u001b[1;34m'F(u)'\u001b[0m\u001b[1;33m)\u001b[0m\u001b[1;33m\u001b[0m\u001b[1;33m\u001b[0m\u001b[0m\n\u001b[0m\u001b[0;32m     61\u001b[0m \u001b[0mplt\u001b[0m\u001b[1;33m.\u001b[0m\u001b[0mtitle\u001b[0m\u001b[1;33m(\u001b[0m\u001b[1;34m'time versus f'\u001b[0m\u001b[1;33m)\u001b[0m\u001b[1;33m\u001b[0m\u001b[1;33m\u001b[0m\u001b[0m\n\u001b[0;32m     62\u001b[0m \u001b[0mplt\u001b[0m\u001b[1;33m.\u001b[0m\u001b[0mlegend\u001b[0m\u001b[1;33m(\u001b[0m\u001b[1;33m)\u001b[0m\u001b[1;33m\u001b[0m\u001b[1;33m\u001b[0m\u001b[0m\n",
      "\u001b[1;32m~\\AppData\\Local\\Programs\\Python\\Python39\\lib\\site-packages\\matplotlib\\pyplot.py\u001b[0m in \u001b[0;36mplot\u001b[1;34m(scalex, scaley, data, *args, **kwargs)\u001b[0m\n\u001b[0;32m   2755\u001b[0m \u001b[1;33m@\u001b[0m\u001b[0m_copy_docstring_and_deprecators\u001b[0m\u001b[1;33m(\u001b[0m\u001b[0mAxes\u001b[0m\u001b[1;33m.\u001b[0m\u001b[0mplot\u001b[0m\u001b[1;33m)\u001b[0m\u001b[1;33m\u001b[0m\u001b[1;33m\u001b[0m\u001b[0m\n\u001b[0;32m   2756\u001b[0m \u001b[1;32mdef\u001b[0m \u001b[0mplot\u001b[0m\u001b[1;33m(\u001b[0m\u001b[1;33m*\u001b[0m\u001b[0margs\u001b[0m\u001b[1;33m,\u001b[0m \u001b[0mscalex\u001b[0m\u001b[1;33m=\u001b[0m\u001b[1;32mTrue\u001b[0m\u001b[1;33m,\u001b[0m \u001b[0mscaley\u001b[0m\u001b[1;33m=\u001b[0m\u001b[1;32mTrue\u001b[0m\u001b[1;33m,\u001b[0m \u001b[0mdata\u001b[0m\u001b[1;33m=\u001b[0m\u001b[1;32mNone\u001b[0m\u001b[1;33m,\u001b[0m \u001b[1;33m**\u001b[0m\u001b[0mkwargs\u001b[0m\u001b[1;33m)\u001b[0m\u001b[1;33m:\u001b[0m\u001b[1;33m\u001b[0m\u001b[1;33m\u001b[0m\u001b[0m\n\u001b[1;32m-> 2757\u001b[1;33m     return gca().plot(\n\u001b[0m\u001b[0;32m   2758\u001b[0m         \u001b[1;33m*\u001b[0m\u001b[0margs\u001b[0m\u001b[1;33m,\u001b[0m \u001b[0mscalex\u001b[0m\u001b[1;33m=\u001b[0m\u001b[0mscalex\u001b[0m\u001b[1;33m,\u001b[0m \u001b[0mscaley\u001b[0m\u001b[1;33m=\u001b[0m\u001b[0mscaley\u001b[0m\u001b[1;33m,\u001b[0m\u001b[1;33m\u001b[0m\u001b[1;33m\u001b[0m\u001b[0m\n\u001b[0;32m   2759\u001b[0m         **({\"data\": data} if data is not None else {}), **kwargs)\n",
      "\u001b[1;32m~\\AppData\\Local\\Programs\\Python\\Python39\\lib\\site-packages\\matplotlib\\axes\\_axes.py\u001b[0m in \u001b[0;36mplot\u001b[1;34m(self, scalex, scaley, data, *args, **kwargs)\u001b[0m\n\u001b[0;32m   1632\u001b[0m         \u001b[0mlines\u001b[0m \u001b[1;33m=\u001b[0m \u001b[1;33m[\u001b[0m\u001b[1;33m*\u001b[0m\u001b[0mself\u001b[0m\u001b[1;33m.\u001b[0m\u001b[0m_get_lines\u001b[0m\u001b[1;33m(\u001b[0m\u001b[1;33m*\u001b[0m\u001b[0margs\u001b[0m\u001b[1;33m,\u001b[0m \u001b[0mdata\u001b[0m\u001b[1;33m=\u001b[0m\u001b[0mdata\u001b[0m\u001b[1;33m,\u001b[0m \u001b[1;33m**\u001b[0m\u001b[0mkwargs\u001b[0m\u001b[1;33m)\u001b[0m\u001b[1;33m]\u001b[0m\u001b[1;33m\u001b[0m\u001b[1;33m\u001b[0m\u001b[0m\n\u001b[0;32m   1633\u001b[0m         \u001b[1;32mfor\u001b[0m \u001b[0mline\u001b[0m \u001b[1;32min\u001b[0m \u001b[0mlines\u001b[0m\u001b[1;33m:\u001b[0m\u001b[1;33m\u001b[0m\u001b[1;33m\u001b[0m\u001b[0m\n\u001b[1;32m-> 1634\u001b[1;33m             \u001b[0mself\u001b[0m\u001b[1;33m.\u001b[0m\u001b[0madd_line\u001b[0m\u001b[1;33m(\u001b[0m\u001b[0mline\u001b[0m\u001b[1;33m)\u001b[0m\u001b[1;33m\u001b[0m\u001b[1;33m\u001b[0m\u001b[0m\n\u001b[0m\u001b[0;32m   1635\u001b[0m         \u001b[0mself\u001b[0m\u001b[1;33m.\u001b[0m\u001b[0m_request_autoscale_view\u001b[0m\u001b[1;33m(\u001b[0m\u001b[0mscalex\u001b[0m\u001b[1;33m=\u001b[0m\u001b[0mscalex\u001b[0m\u001b[1;33m,\u001b[0m \u001b[0mscaley\u001b[0m\u001b[1;33m=\u001b[0m\u001b[0mscaley\u001b[0m\u001b[1;33m)\u001b[0m\u001b[1;33m\u001b[0m\u001b[1;33m\u001b[0m\u001b[0m\n\u001b[0;32m   1636\u001b[0m         \u001b[1;32mreturn\u001b[0m \u001b[0mlines\u001b[0m\u001b[1;33m\u001b[0m\u001b[1;33m\u001b[0m\u001b[0m\n",
      "\u001b[1;32m~\\AppData\\Local\\Programs\\Python\\Python39\\lib\\site-packages\\matplotlib\\axes\\_base.py\u001b[0m in \u001b[0;36madd_line\u001b[1;34m(self, line)\u001b[0m\n\u001b[0;32m   2281\u001b[0m             \u001b[0mline\u001b[0m\u001b[1;33m.\u001b[0m\u001b[0mset_clip_path\u001b[0m\u001b[1;33m(\u001b[0m\u001b[0mself\u001b[0m\u001b[1;33m.\u001b[0m\u001b[0mpatch\u001b[0m\u001b[1;33m)\u001b[0m\u001b[1;33m\u001b[0m\u001b[1;33m\u001b[0m\u001b[0m\n\u001b[0;32m   2282\u001b[0m \u001b[1;33m\u001b[0m\u001b[0m\n\u001b[1;32m-> 2283\u001b[1;33m         \u001b[0mself\u001b[0m\u001b[1;33m.\u001b[0m\u001b[0m_update_line_limits\u001b[0m\u001b[1;33m(\u001b[0m\u001b[0mline\u001b[0m\u001b[1;33m)\u001b[0m\u001b[1;33m\u001b[0m\u001b[1;33m\u001b[0m\u001b[0m\n\u001b[0m\u001b[0;32m   2284\u001b[0m         \u001b[1;32mif\u001b[0m \u001b[1;32mnot\u001b[0m \u001b[0mline\u001b[0m\u001b[1;33m.\u001b[0m\u001b[0mget_label\u001b[0m\u001b[1;33m(\u001b[0m\u001b[1;33m)\u001b[0m\u001b[1;33m:\u001b[0m\u001b[1;33m\u001b[0m\u001b[1;33m\u001b[0m\u001b[0m\n\u001b[0;32m   2285\u001b[0m             \u001b[0mline\u001b[0m\u001b[1;33m.\u001b[0m\u001b[0mset_label\u001b[0m\u001b[1;33m(\u001b[0m\u001b[1;34mf'_child{len(self._children)}'\u001b[0m\u001b[1;33m)\u001b[0m\u001b[1;33m\u001b[0m\u001b[1;33m\u001b[0m\u001b[0m\n",
      "\u001b[1;32m~\\AppData\\Local\\Programs\\Python\\Python39\\lib\\site-packages\\matplotlib\\axes\\_base.py\u001b[0m in \u001b[0;36m_update_line_limits\u001b[1;34m(self, line)\u001b[0m\n\u001b[0;32m   2304\u001b[0m         \u001b[0mFigures\u001b[0m \u001b[0mout\u001b[0m \u001b[0mthe\u001b[0m \u001b[0mdata\u001b[0m \u001b[0mlimit\u001b[0m \u001b[0mof\u001b[0m \u001b[0mthe\u001b[0m \u001b[0mgiven\u001b[0m \u001b[0mline\u001b[0m\u001b[1;33m,\u001b[0m \u001b[0mupdating\u001b[0m \u001b[0mself\u001b[0m\u001b[1;33m.\u001b[0m\u001b[0mdataLim\u001b[0m\u001b[1;33m.\u001b[0m\u001b[1;33m\u001b[0m\u001b[1;33m\u001b[0m\u001b[0m\n\u001b[0;32m   2305\u001b[0m         \"\"\"\n\u001b[1;32m-> 2306\u001b[1;33m         \u001b[0mpath\u001b[0m \u001b[1;33m=\u001b[0m \u001b[0mline\u001b[0m\u001b[1;33m.\u001b[0m\u001b[0mget_path\u001b[0m\u001b[1;33m(\u001b[0m\u001b[1;33m)\u001b[0m\u001b[1;33m\u001b[0m\u001b[1;33m\u001b[0m\u001b[0m\n\u001b[0m\u001b[0;32m   2307\u001b[0m         \u001b[1;32mif\u001b[0m \u001b[0mpath\u001b[0m\u001b[1;33m.\u001b[0m\u001b[0mvertices\u001b[0m\u001b[1;33m.\u001b[0m\u001b[0msize\u001b[0m \u001b[1;33m==\u001b[0m \u001b[1;36m0\u001b[0m\u001b[1;33m:\u001b[0m\u001b[1;33m\u001b[0m\u001b[1;33m\u001b[0m\u001b[0m\n\u001b[0;32m   2308\u001b[0m             \u001b[1;32mreturn\u001b[0m\u001b[1;33m\u001b[0m\u001b[1;33m\u001b[0m\u001b[0m\n",
      "\u001b[1;32m~\\AppData\\Local\\Programs\\Python\\Python39\\lib\\site-packages\\matplotlib\\lines.py\u001b[0m in \u001b[0;36mget_path\u001b[1;34m(self)\u001b[0m\n\u001b[0;32m    995\u001b[0m         \u001b[1;34m\"\"\"Return the `~matplotlib.path.Path` associated with this line.\"\"\"\u001b[0m\u001b[1;33m\u001b[0m\u001b[1;33m\u001b[0m\u001b[0m\n\u001b[0;32m    996\u001b[0m         \u001b[1;32mif\u001b[0m \u001b[0mself\u001b[0m\u001b[1;33m.\u001b[0m\u001b[0m_invalidy\u001b[0m \u001b[1;32mor\u001b[0m \u001b[0mself\u001b[0m\u001b[1;33m.\u001b[0m\u001b[0m_invalidx\u001b[0m\u001b[1;33m:\u001b[0m\u001b[1;33m\u001b[0m\u001b[1;33m\u001b[0m\u001b[0m\n\u001b[1;32m--> 997\u001b[1;33m             \u001b[0mself\u001b[0m\u001b[1;33m.\u001b[0m\u001b[0mrecache\u001b[0m\u001b[1;33m(\u001b[0m\u001b[1;33m)\u001b[0m\u001b[1;33m\u001b[0m\u001b[1;33m\u001b[0m\u001b[0m\n\u001b[0m\u001b[0;32m    998\u001b[0m         \u001b[1;32mreturn\u001b[0m \u001b[0mself\u001b[0m\u001b[1;33m.\u001b[0m\u001b[0m_path\u001b[0m\u001b[1;33m\u001b[0m\u001b[1;33m\u001b[0m\u001b[0m\n\u001b[0;32m    999\u001b[0m \u001b[1;33m\u001b[0m\u001b[0m\n",
      "\u001b[1;32m~\\AppData\\Local\\Programs\\Python\\Python39\\lib\\site-packages\\matplotlib\\lines.py\u001b[0m in \u001b[0;36mrecache\u001b[1;34m(self, always)\u001b[0m\n\u001b[0;32m    653\u001b[0m         \u001b[1;32mif\u001b[0m \u001b[0malways\u001b[0m \u001b[1;32mor\u001b[0m \u001b[0mself\u001b[0m\u001b[1;33m.\u001b[0m\u001b[0m_invalidy\u001b[0m\u001b[1;33m:\u001b[0m\u001b[1;33m\u001b[0m\u001b[1;33m\u001b[0m\u001b[0m\n\u001b[0;32m    654\u001b[0m             \u001b[0myconv\u001b[0m \u001b[1;33m=\u001b[0m \u001b[0mself\u001b[0m\u001b[1;33m.\u001b[0m\u001b[0mconvert_yunits\u001b[0m\u001b[1;33m(\u001b[0m\u001b[0mself\u001b[0m\u001b[1;33m.\u001b[0m\u001b[0m_yorig\u001b[0m\u001b[1;33m)\u001b[0m\u001b[1;33m\u001b[0m\u001b[1;33m\u001b[0m\u001b[0m\n\u001b[1;32m--> 655\u001b[1;33m             \u001b[0my\u001b[0m \u001b[1;33m=\u001b[0m \u001b[0m_to_unmasked_float_array\u001b[0m\u001b[1;33m(\u001b[0m\u001b[0myconv\u001b[0m\u001b[1;33m)\u001b[0m\u001b[1;33m.\u001b[0m\u001b[0mravel\u001b[0m\u001b[1;33m(\u001b[0m\u001b[1;33m)\u001b[0m\u001b[1;33m\u001b[0m\u001b[1;33m\u001b[0m\u001b[0m\n\u001b[0m\u001b[0;32m    656\u001b[0m         \u001b[1;32melse\u001b[0m\u001b[1;33m:\u001b[0m\u001b[1;33m\u001b[0m\u001b[1;33m\u001b[0m\u001b[0m\n\u001b[0;32m    657\u001b[0m             \u001b[0my\u001b[0m \u001b[1;33m=\u001b[0m \u001b[0mself\u001b[0m\u001b[1;33m.\u001b[0m\u001b[0m_y\u001b[0m\u001b[1;33m\u001b[0m\u001b[1;33m\u001b[0m\u001b[0m\n",
      "\u001b[1;32m~\\AppData\\Local\\Programs\\Python\\Python39\\lib\\site-packages\\matplotlib\\cbook\\__init__.py\u001b[0m in \u001b[0;36m_to_unmasked_float_array\u001b[1;34m(x)\u001b[0m\n\u001b[0;32m   1296\u001b[0m         \u001b[1;32mreturn\u001b[0m \u001b[0mnp\u001b[0m\u001b[1;33m.\u001b[0m\u001b[0mma\u001b[0m\u001b[1;33m.\u001b[0m\u001b[0masarray\u001b[0m\u001b[1;33m(\u001b[0m\u001b[0mx\u001b[0m\u001b[1;33m,\u001b[0m \u001b[0mfloat\u001b[0m\u001b[1;33m)\u001b[0m\u001b[1;33m.\u001b[0m\u001b[0mfilled\u001b[0m\u001b[1;33m(\u001b[0m\u001b[0mnp\u001b[0m\u001b[1;33m.\u001b[0m\u001b[0mnan\u001b[0m\u001b[1;33m)\u001b[0m\u001b[1;33m\u001b[0m\u001b[1;33m\u001b[0m\u001b[0m\n\u001b[0;32m   1297\u001b[0m     \u001b[1;32melse\u001b[0m\u001b[1;33m:\u001b[0m\u001b[1;33m\u001b[0m\u001b[1;33m\u001b[0m\u001b[0m\n\u001b[1;32m-> 1298\u001b[1;33m         \u001b[1;32mreturn\u001b[0m \u001b[0mnp\u001b[0m\u001b[1;33m.\u001b[0m\u001b[0masarray\u001b[0m\u001b[1;33m(\u001b[0m\u001b[0mx\u001b[0m\u001b[1;33m,\u001b[0m \u001b[0mfloat\u001b[0m\u001b[1;33m)\u001b[0m\u001b[1;33m\u001b[0m\u001b[1;33m\u001b[0m\u001b[0m\n\u001b[0m\u001b[0;32m   1299\u001b[0m \u001b[1;33m\u001b[0m\u001b[0m\n\u001b[0;32m   1300\u001b[0m \u001b[1;33m\u001b[0m\u001b[0m\n",
      "\u001b[1;32m~\\AppData\\Local\\Programs\\Python\\Python39\\lib\\site-packages\\sympy\\core\\expr.py\u001b[0m in \u001b[0;36m__float__\u001b[1;34m(self)\u001b[0m\n\u001b[0;32m    356\u001b[0m             \u001b[1;32mreturn\u001b[0m \u001b[0mfloat\u001b[0m\u001b[1;33m(\u001b[0m\u001b[0mresult\u001b[0m\u001b[1;33m)\u001b[0m\u001b[1;33m\u001b[0m\u001b[1;33m\u001b[0m\u001b[0m\n\u001b[0;32m    357\u001b[0m         \u001b[1;32mif\u001b[0m \u001b[0mresult\u001b[0m\u001b[1;33m.\u001b[0m\u001b[0mis_number\u001b[0m \u001b[1;32mand\u001b[0m \u001b[0mresult\u001b[0m\u001b[1;33m.\u001b[0m\u001b[0mas_real_imag\u001b[0m\u001b[1;33m(\u001b[0m\u001b[1;33m)\u001b[0m\u001b[1;33m[\u001b[0m\u001b[1;36m1\u001b[0m\u001b[1;33m]\u001b[0m\u001b[1;33m:\u001b[0m\u001b[1;33m\u001b[0m\u001b[1;33m\u001b[0m\u001b[0m\n\u001b[1;32m--> 358\u001b[1;33m             \u001b[1;32mraise\u001b[0m \u001b[0mTypeError\u001b[0m\u001b[1;33m(\u001b[0m\u001b[1;34m\"can't convert complex to float\"\u001b[0m\u001b[1;33m)\u001b[0m\u001b[1;33m\u001b[0m\u001b[1;33m\u001b[0m\u001b[0m\n\u001b[0m\u001b[0;32m    359\u001b[0m         \u001b[1;32mraise\u001b[0m \u001b[0mTypeError\u001b[0m\u001b[1;33m(\u001b[0m\u001b[1;34m\"can't convert expression to float\"\u001b[0m\u001b[1;33m)\u001b[0m\u001b[1;33m\u001b[0m\u001b[1;33m\u001b[0m\u001b[0m\n\u001b[0;32m    360\u001b[0m \u001b[1;33m\u001b[0m\u001b[0m\n",
      "\u001b[1;31mTypeError\u001b[0m: can't convert complex to float"
     ]
    },
    {
     "data": {
      "image/png": "[encoded data removed]",
      "text/plain": [
       "<Figure size 432x288 with 1 Axes>"
      ]
     },
     "metadata": {
      "needs_background": "light"
     },
     "output_type": "display_data"
    }
   ],
   "source": [
    "# importing used packages\n",
    "\n",
    "from sympy import *\n",
    "import numpy as np\n",
    "import matplotlib.pyplot as plt\n",
    "#creating variables\n",
    "t=Symbol(' t  ', real=True) \n",
    "x=Function('x')(t)\n",
    "u=Function('u')(t)\n",
    "p=Function('p')(t)\n",
    "m=Rational(input(\"please enter integral coefficiont=\"))\n",
    "t0=Rational(input(\"please enter t0=\"))\n",
    "t1=Rational(input(\"please enter t1=\"))\n",
    "F=eval(input('please enter integral  ='))\n",
    "Fu=Eq(Function('f')(u),m*Integral(F,(t,t0,t1)))\n",
    "display(Fu)\n",
    "xt=Rational(input(\"in x(t)   t=\"))\n",
    "xx=Rational(input(\"please enter value of x(t)=\"))\n",
    "pt=Rational(input(\"in p(t)    t=\"))\n",
    "pp=Rational(input(\"please enter value for p(t)=\"))\n",
    "#taking p(0) input from user\n",
    "p0=Rational(input(\"please enter value for p(0)=\"))\n",
    "\n",
    "\n",
    "ics={x.subs(t,xt):xx,p.subs(t,pt):pp}\n",
    "f=Eq(Function('f')(x,u,t),eval(input('please enter x dot  =')))\n",
    "g=Eq(Function('g')(x,u,t),m*F)\n",
    "\n",
    "#Hamiltonian equation\n",
    "H=Eq(Function('H')(x,u,p,t),p0*g.rhs+p*f.rhs)\n",
    "print('this is Hamilotian equation')\n",
    "display(H)\n",
    "equ0=Eq(p.diff(t),-f.rhs.diff(x)*p-g.rhs.diff(x))\n",
    "print('this is same_condition equation')\n",
    "display(equ0)\n",
    "equ1=Eq(p.diff().diff(),equ0.rhs.diff())\n",
    "a=Eq(H.rhs.diff(u),0)\n",
    "u_t=solve(a,u)[0]\n",
    "equ2=Eq(p.diff().diff(),p+x-f.rhs).subs(u,u_t)\n",
    "print('this is ode we going to solve')\n",
    "display(equ2)\n",
    "solution=dsolve(equ2)\n",
    "equ3=solution.subs({t:pt,p:pp})\n",
    "x_t=Eq(x,-solution.rhs.diff(t)-solution.rhs)\n",
    "equ4=x_t.subs({t:xt,x:xx})\n",
    "freevar=x_t.subs({t:0,x:1}).free_symbols\n",
    "par_sol=solve([equ3,equ4],freevar)\n",
    "p_t=solution.subs(par_sol)\n",
    "xt=x_t.subs(par_sol).simplify()\n",
    "print('this solution to x(t)')\n",
    "display(xt)\n",
    "ut=u_t.subs(p,p_t.rhs)\n",
    "print('this is solution to u(t)')\n",
    "display(ut)\n",
    "def minf(n):\n",
    "    return N(Fu.subs({u:ut.subs(t,n),x:xt.rhs.subs(t,n)}).rhs)\n",
    "zz=np.linspace(float(t0),float(t1),10)\n",
    "yy=[minf(n) for n in zz]\n",
    "print(zz,yy)\n",
    "plt.xlabel(\"t0 to t1: time\")\n",
    "plt.ylabel(\"F(u(t))\")\n",
    "plt.plot( zz, yy, 'r--' ,label='F(u)')\n",
    "plt.title('time versus f')\n",
    "plt.legend()\n",
    "plt.show()\n",
    "print(f'minimum occors at t= {zz[np.argmin(yy)]} and value of {min(yy)}')"
   ]
  }
 ],
 "metadata": {
  "kernelspec": {
   "display_name": "Python 3 (ipykernel)",
   "language": "python",
   "name": "python3"
  },
  "language_info": {
   "codemirror_mode": {
    "name": "ipython",
    "version": 3
   },
   "file_extension": ".py",
   "mimetype": "text/x-python",
   "name": "python",
   "nbconvert_exporter": "python",
   "pygments_lexer": "ipython3",
   "version": "3.9.6"
  }
 },
 "nbformat": 4,
 "nbformat_minor": 5
}
