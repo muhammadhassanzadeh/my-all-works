{
 "cells": [
  {
   "cell_type": "markdown",
   "id": "0dfeba47",
   "metadata": {},
   "source": [
    "# Digit Classification neural network\n",
    "## superwisor:Dr. Farnoosh\n",
    "###  presented by: Muhammad Hassanzadeh"
   ]
  },
  {
   "cell_type": "code",
   "execution_count": 1,
   "id": "4fa28d49",
   "metadata": {},
   "outputs": [],
   "source": [
    "\n",
    "import numpy\n",
    "from keras.datasets import mnist\n",
    "from keras.models import Sequential\n",
    "from keras.layers import Dense\n",
    "from keras.layers import Dropout\n",
    "from keras.layers import Flatten\n",
    "from keras.layers.convolutional import Conv2D\n",
    "from keras.layers.convolutional import MaxPooling2D\n",
    "from keras.optimizers import Adam\n",
    "from keras.utils import np_utils"
   ]
  },
  {
   "cell_type": "code",
   "execution_count": 5,
   "id": "cb6d2f9d",
   "metadata": {},
   "outputs": [],
   "source": [
    "# fix random seed for reproducibility\n",
    "seed = 7\n",
    "numpy.random.seed(seed)\n",
    "\n",
    "\n",
    "import pandas as pd\n",
    "\n",
    "\n",
    "# the data, split between train and test sets and changing them to numpy arrays\n",
    "df_train=pd.read_csv('mnist_train.csv',header=1).values\n",
    "df_test=pd.read_csv('mnist_test.csv',header=1).values\n",
    "X_train, y_train=df_train[:,1::],df_train[:,0]\n",
    "X_test, y_test=df_test[:,1::],df_test[:,0]\n",
    "X_train=X_train.reshape(60000-1, 28, 28)\n",
    "X_test=X_test.reshape(9999, 28, 28)"
   ]
  },
  {
   "cell_type": "code",
   "execution_count": 7,
   "id": "43a4e9f3",
   "metadata": {},
   "outputs": [
    {
     "data": {
      "text/plain": [
       "(9999, 28, 28)"
      ]
     },
     "execution_count": 7,
     "metadata": {},
     "output_type": "execute_result"
    }
   ],
   "source": []
  },
  {
   "cell_type": "code",
   "execution_count": 8,
   "id": "12e642bd",
   "metadata": {},
   "outputs": [],
   "source": [
    "# Reshaping to format which CNN expects (batch, height, width, channels)\n",
    "X_train = X_train.reshape(X_train.shape[0], X_train.shape[1], X_train.shape[2], 1).astype('float32')\n",
    "X_test = X_test.reshape(X_test.shape[0], X_test.shape[1], X_test.shape[2], 1).astype('float32')\n",
    "\n",
    "# normalize inputs from 0-255 to 0-1\n",
    "X_train/=255\n",
    "X_test/=255\n",
    "\n",
    "# one hot encode\n",
    "number_of_classes = 10\n",
    "y_train = np_utils.to_categorical(y_train, number_of_classes)\n",
    "y_test = np_utils.to_categorical(y_test, number_of_classes)\n",
    "\n",
    "# create model\n",
    "model = Sequential()\n",
    "model.add(Conv2D(32, (5, 5), input_shape=(X_train.shape[1], X_train.shape[2], 1), activation='relu'))\n",
    "model.add(MaxPooling2D(pool_size=(2, 2)))\n",
    "model.add(Conv2D(32, (3, 3), activation='relu'))\n",
    "model.add(MaxPooling2D(pool_size=(2, 2)))\n",
    "model.add(Dropout(0.2))\n",
    "model.add(Flatten())\n",
    "model.add(Dense(128, activation='relu'))\n",
    "model.add(Dense(number_of_classes, activation='softmax'))\n",
    "\n",
    "# Compile model\n",
    "model.compile(loss='categorical_crossentropy', optimizer=Adam(), metrics=['accuracy'])"
   ]
  },
  {
   "cell_type": "code",
   "execution_count": 9,
   "id": "7bc3be80",
   "metadata": {},
   "outputs": [
    {
     "name": "stdout",
     "output_type": "stream",
     "text": [
      "Epoch 1/10\n",
      "300/300 [==============================] - 20s 65ms/step - loss: 0.2957 - accuracy: 0.9118 - val_loss: 0.0748 - val_accuracy: 0.9774\n",
      "Epoch 2/10\n",
      "300/300 [==============================] - 20s 68ms/step - loss: 0.0769 - accuracy: 0.9761 - val_loss: 0.0468 - val_accuracy: 0.9850\n",
      "Epoch 3/10\n",
      "300/300 [==============================] - 20s 67ms/step - loss: 0.0562 - accuracy: 0.9829 - val_loss: 0.0365 - val_accuracy: 0.9874\n",
      "Epoch 4/10\n",
      "300/300 [==============================] - 20s 67ms/step - loss: 0.0446 - accuracy: 0.9865 - val_loss: 0.0280 - val_accuracy: 0.9911\n",
      "Epoch 5/10\n",
      "300/300 [==============================] - 20s 66ms/step - loss: 0.0387 - accuracy: 0.9880 - val_loss: 0.0311 - val_accuracy: 0.9889\n",
      "Epoch 6/10\n",
      "300/300 [==============================] - 21s 69ms/step - loss: 0.0341 - accuracy: 0.9894 - val_loss: 0.0286 - val_accuracy: 0.9903\n",
      "Epoch 7/10\n",
      "300/300 [==============================] - 20s 65ms/step - loss: 0.0310 - accuracy: 0.9905 - val_loss: 0.0277 - val_accuracy: 0.9919\n",
      "Epoch 8/10\n",
      "300/300 [==============================] - 19s 65ms/step - loss: 0.0266 - accuracy: 0.9920 - val_loss: 0.0241 - val_accuracy: 0.9915\n",
      "Epoch 9/10\n",
      "300/300 [==============================] - 21s 70ms/step - loss: 0.0232 - accuracy: 0.9922 - val_loss: 0.0224 - val_accuracy: 0.9931\n",
      "Epoch 10/10\n",
      "300/300 [==============================] - 22s 72ms/step - loss: 0.0218 - accuracy: 0.9928 - val_loss: 0.0247 - val_accuracy: 0.9915\n"
     ]
    },
    {
     "data": {
      "text/plain": [
       "<keras.callbacks.History at 0x2a22bb98520>"
      ]
     },
     "execution_count": 9,
     "metadata": {},
     "output_type": "execute_result"
    }
   ],
   "source": [
    "# Fit the model\n",
    "model.fit(X_train, y_train, validation_data=(X_test, y_test), epochs=10, batch_size=200)"
   ]
  },
  {
   "cell_type": "code",
   "execution_count": 10,
   "id": "8e50b8f6",
   "metadata": {},
   "outputs": [
    {
     "name": "stdout",
     "output_type": "stream",
     "text": [
      "Metrics(Test loss & Test Accuracy): \n",
      "[0.02467968314886093, 0.991499125957489]\n"
     ]
    }
   ],
   "source": [
    "# Save the model\n",
    "model.save('models/mnistCNN.h5')\n",
    "\n",
    "# Final evaluation of the model\n",
    "metrics = model.evaluate(X_test, y_test, verbose=0)\n",
    "print(\"Metrics(Test loss & Test Accuracy): \")\n",
    "print(metrics)"
   ]
  },
  {
   "cell_type": "code",
   "execution_count": 16,
   "id": "390cd04a",
   "metadata": {},
   "outputs": [
    {
     "name": "stdout",
     "output_type": "stream",
     "text": [
      "1/1 [==============================] - 0s 94ms/step\n",
      "1/1 [==============================] - 0s 31ms/step\n",
      "1/1 [==============================] - 0s 31ms/step\n"
     ]
    }
   ],
   "source": [
    "from tkinter import *\n",
    "from tkinter.ttk import *\n",
    "import PIL.ImageGrab\n",
    "from PIL import Image\n",
    "from keras.models import load_model\n",
    "import numpy as np\n",
    "\n",
    "# load model\n",
    "model = load_model('models/mnistCNN.h5')\n",
    "\n",
    "# create global variables \n",
    "operator = \"Predicted Number: \"\n",
    "operator2 = \"\"\n",
    "\n",
    "# create function to clear canvas and text\n",
    "def Clear():\n",
    "    cv.delete(\"all\")\n",
    "    global operator2\n",
    "    text_input.set(operator2)\n",
    "\n",
    "# create function to predict and display predicted number\n",
    "def Predict():\n",
    "    file = 'D:/image.jpg'\n",
    "    if file:\n",
    "        # save the canvas in jpg format\n",
    "        x = root.winfo_rootx() + cv.winfo_x()\n",
    "        y = root.winfo_rooty() + cv.winfo_y()\n",
    "        x1 = x + cv.winfo_width()\n",
    "        y1 = y + cv.winfo_height()\n",
    "        PIL.ImageGrab.grab().crop((x,y,x1,y1)).save(file)\n",
    "        \n",
    "        #convert to greyscale\n",
    "        img = Image.open(file).convert(\"L\")\n",
    "        \n",
    "        #resize image\n",
    "        img = img.resize((28,28))\n",
    "        \n",
    "        #convert image to array\n",
    "        im2arr = np.array(img)\n",
    "        \n",
    "        # reshape array\n",
    "        im2arr = im2arr.reshape(1,28,28,1)\n",
    "        \n",
    "        #predict class\n",
    "        y_pred2 = model.predict(im2arr)\n",
    "        \n",
    "        #covert class to scalar\n",
    "        x = y_pred2.argmax()\n",
    "        \n",
    "        #display predicted number\n",
    "        global operator\n",
    "        operator = operator+str(x)\n",
    "        text_input.set(operator)\n",
    "        operator = operator = \"Predicted Number: \"\n",
    "\n",
    "# create function to draw on canvas\n",
    "def paint(event):\n",
    "    old_x = event.x\n",
    "    old_y = event.y        \n",
    "        \n",
    "    cv.create_line(old_x, old_y, event.x, event.y,\n",
    "                               width=20, fill=\"white\",\n",
    "                               capstyle=ROUND, smooth=TRUE, splinesteps=36)\n",
    "\n",
    "# all interface elements must be between Tk() and mainloop()\n",
    "root = Tk()\n",
    "\n",
    "#create string variable\n",
    "text_input = StringVar()\n",
    "\n",
    "#create field to display text\n",
    "textdisplay = Entry(root, \n",
    "               textvariable = text_input,  \n",
    "               justify = 'center')\n",
    "\n",
    "# create predict and clear buttons\n",
    "btn1 = Button(root, text = \"Predict\", command = lambda:Predict())\n",
    "btn2 = Button(root, text = \"Clear\", command = lambda:Clear())\n",
    "\n",
    "#create canvas to draw on\n",
    "cv = Canvas(root,width=200,height=200,bg=\"black\",)\n",
    "\n",
    "#using left mouse button to draw\n",
    "cv.bind('<B1-Motion>', paint)\n",
    "\n",
    "#organise the elements\n",
    "cv.grid(row = 0, column = 0)\n",
    "textdisplay.grid(row = 0, column = 1)\n",
    "btn1.grid(row = 1, column = 0)\n",
    "btn2.grid(row = 1, column = 1)\n",
    "\n",
    "#this 2 lines for expand the interface\n",
    "root.rowconfigure(0, weight=2)\n",
    "root.columnconfigure(1, weight=2)\n",
    "\n",
    "root.mainloop()"
   ]
  }
 ],
 "metadata": {
  "kernelspec": {
   "display_name": "Python 3 (ipykernel)",
   "language": "python",
   "name": "python3"
  },
  "language_info": {
   "codemirror_mode": {
    "name": "ipython",
    "version": 3
   },
   "file_extension": ".py",
   "mimetype": "text/x-python",
   "name": "python",
   "nbconvert_exporter": "python",
   "pygments_lexer": "ipython3",
   "version": "3.9.6"
  }
 },
 "nbformat": 4,
 "nbformat_minor": 5
}
