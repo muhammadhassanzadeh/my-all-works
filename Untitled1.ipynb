{
 "cells": [
  {
   "cell_type": "markdown",
   "id": "f06d74e9",
   "metadata": {},
   "source": [
    "# Rayleigh_Ritz method in Python\n",
    "\n",
    "## Author :  Muhammad Hassanzadeh\n",
    "#### project of variational calculus by D.r Morteza Garshasbi\n",
    "\n",
    "\n",
    "The Rayleigh Ritz method is a classical approximate method to find the displacement function of an object such that the it is in extremised state. It is regarded as an ancestor of the widely used Finite Element Method (FEM),this method works when our classical variational maethod like Euler_Lagrange equation doesn't get us to solution.\n",
    "for solving boundary value problem we deals with second order ordinary differential equations like: $$a(x)\\ddot y+b(x)\\dot y +c(x)y=f(x)$$ Then  we  can change the boundary value problem to a variational problem using analytical methods to construct the following functional:\n",
    "\n",
    "\n",
    "  $$ I[y]=\\int_{x_0}^{x_1} [p(x)\\dot y^2 +q(x)y^2 + r(x)y]dx$$ \n",
    "  \n",
    "  \n",
    "\n",
    "the steps in this method are as following:\n",
    "\n",
    "\n",
    "i)make a trial function $$u(x)=\\phi_0 (x)+\\sum_{j=1}^{n} c_j \\phi_j (x)$$\n",
    "in which  $\\phi_0 (x)$  satisfies our boundary conditions $y(x_0)=y_0 , y(x_1)=y_1$ and all $\\phi_j (x)$  get value of zero in boundary conditions.\n",
    "\n",
    "\n",
    "\n",
    "ii) now for finding scaler coefficient $c_j $ we can subsitute our trial function in functional ,then integerating it and we get algabraic equations for each $c_j $  by letting $$\\frac{\\partial I(c_j)}{c_j}=0$$\n",
    "\n",
    "###### created on january 2022 univesity of IUST \n",
    "\n",
    "\n",
    "\n",
    "\n",
    "\n",
    "\n",
    "## importing libraries and taking inputs from user\n",
    "the program works by having boundary conditions and functions of p,q,r which for $3sin(x)+x^2$ need to be typed like: 3* sin(x) + x* * x"
   ]
  },
  {
   "cell_type": "code",
   "execution_count": 1,
   "id": "7c128421",
   "metadata": {},
   "outputs": [
    {
     "name": "stdout",
     "output_type": "stream",
     "text": [
      "please enter p(x) =.5*x**2\n",
      "please enter q(x) =0\n",
      "please enter r(x) =6*x\n"
     ]
    }
   ],
   "source": [
    "%matplotlib inline\n",
    "import numpy as np\n",
    "from sympy import *\n",
    "import matplotlib.pyplot as plt\n",
    "\n",
    "x=Symbol('x')\n",
    "p=Eq(Function('p')(x),eval(input('please enter p(x) ='))).rhs\n",
    "q=Eq(Function('q')(x),eval(input('please enter q(x) ='))).rhs\n",
    "r=Eq(Function('r')(x),eval(input('please enter r(x) ='))).rhs\n",
    "f=Function('f')(x)\n",
    "x0=1\n",
    "y0=0\n",
    "x1=2\n",
    "y1=0\n",
    "n=int(input('please enter number of terms in RRM='))"
   ]
  },
  {
   "cell_type": "code",
   "execution_count": 2,
   "id": "eff8e7fe",
   "metadata": {},
   "outputs": [
    {
     "name": "stdout",
     "output_type": "stream",
     "text": [
      "Integral(0.5*x**2*Derivative(f(x), x)**2 + 6*x*f(x), (x, 1, 2))\n"
     ]
    },
    {
     "data": {
      "text/latex": [
       "$\\displaystyle \\int\\limits_{1}^{2} \\left(0.5 x^{2} \\left(\\frac{d}{d x} f{\\left(x \\right)}\\right)^{2} + 6 x f{\\left(x \\right)}\\right)\\, dx$"
      ],
      "text/plain": [
       "Integral(0.5*x**2*Derivative(f(x), x)**2 + 6*x*f(x), (x, 1, 2))"
      ]
     },
     "execution_count": 2,
     "metadata": {},
     "output_type": "execute_result"
    }
   ],
   "source": [
    "#instead of extrimising our functional by Euler_Lagrang method we are going to use Rayleigh Rits method \n",
    "#using set of trial basis functions that satisfies the functional make it algabraic \n",
    "I=Integral(Eq(p*f.diff(x)**2+q*f**2+r*f,0).lhs,[x,x0,x1])\n",
    "print(I)\n",
    "I"
   ]
  },
  {
   "cell_type": "code",
   "execution_count": 13,
   "id": "65cdf6e4",
   "metadata": {},
   "outputs": [
    {
     "name": "stdout",
     "output_type": "stream",
     "text": [
      "0\n"
     ]
    },
    {
     "data": {
      "text/plain": [
       "{a: 0, b: 0}"
      ]
     },
     "execution_count": 13,
     "metadata": {},
     "output_type": "execute_result"
    }
   ],
   "source": [
    "#fhi0 must satisfies non homogenious boundry conditioin BCs\n",
    "a,b,=symbols(' a b ')\n",
    "\n",
    "def phi0(x):\n",
    "    return a*x+b\n",
    "\n",
    "eq1=Eq(phi0(x0),y0)\n",
    "eq2=Eq(phi0(x1),y1)\n",
    "\n",
    "sol=solve((eq1,eq2),(a,b))\n",
    "a1=sol[a]\n",
    "b1=sol[b]\n",
    "print(a1*x+b1)\n",
    "phi0=a1*x+b1\n",
    "phi0\n",
    "sol"
   ]
  },
  {
   "cell_type": "code",
   "execution_count": 14,
   "id": "a65718c6",
   "metadata": {},
   "outputs": [
    {
     "name": "stdout",
     "output_type": "stream",
     "text": [
      "c1\n",
      "c2\n"
     ]
    },
    {
     "data": {
      "text/latex": [
       "$\\displaystyle \\left(c_{1} + c_{2} x\\right) \\left(x - 2\\right) \\left(x - 1\\right)$"
      ],
      "text/plain": [
       "(c1 + c2*x)*(x - 2)*(x - 1)"
      ]
     },
     "execution_count": 14,
     "metadata": {},
     "output_type": "execute_result"
    }
   ],
   "source": [
    "#phij of x are element of c**2[x0, x1] it means they are solution to our homogenious problem form and \n",
    "dic={}\n",
    "un=0\n",
    "for i in range(1,3):\n",
    "        dic[f'c{i}']=Symbol(f'c{i}')\n",
    "        un+=dic[f'c{i}']*x**(i-1)\n",
    "        print(dic[f'c{i}'])\n",
    "un=un*(x-x0)*(x-x1)\n",
    "un"
   ]
  },
  {
   "cell_type": "code",
   "execution_count": 15,
   "id": "ae8c5263",
   "metadata": {},
   "outputs": [
    {
     "data": {
      "text/latex": [
       "$\\displaystyle \\left(c_{1} + c_{2} x\\right) \\left(x - 2\\right) \\left(x - 1\\right)$"
      ],
      "text/plain": [
       "(c1 + c2*x)*(x - 2)*(x - 1)"
      ]
     },
     "execution_count": 15,
     "metadata": {},
     "output_type": "execute_result"
    }
   ],
   "source": [
    "#here $$ we have our traial solution $$\n",
    "(phi0+un)\n"
   ]
  },
  {
   "cell_type": "code",
   "execution_count": 16,
   "id": "b1925b1f",
   "metadata": {},
   "outputs": [
    {
     "name": "stdout",
     "output_type": "stream",
     "text": [
      "Integral(0.5*x**2*(c2*(x - 2)*(x - 1) + (c1 + c2*x)*(x - 2) + (c1 + c2*x)*(x - 1))**2 + 6*x*(c1 + c2*x)*(x - 2)*(x - 1), (x, 1, 2))\n"
     ]
    },
    {
     "data": {
      "text/latex": [
       "$\\displaystyle 0.400000000000001 c_{1}^{2} + 1.29999999999999 c_{1} c_{2} - 1.5 c_{1} + 1.1095238095238 c_{2}^{2} - 2.29999999999999 c_{2}$"
      ],
      "text/plain": [
       "0.400000000000001*c1**2 + 1.29999999999999*c1*c2 - 1.5*c1 + 1.1095238095238*c2**2 - 2.29999999999999*c2"
      ]
     },
     "execution_count": 16,
     "metadata": {},
     "output_type": "execute_result"
    }
   ],
   "source": [
    "#now we plug in our estimated trial function in functional and itegerating it respect to domain so we get an function based on c1\n",
    "I_new=Integral(p*(phi0+un).diff(x)**2+q*(phi0+un)**2+r*(phi0+un),[x,x0,x1])\n",
    "print(I_new)\n",
    "I_fun_c=integrate(I_new,[x,x0,x1])#FINITE ITEGERATION NPW WE HAVE I ONLY FUNCTION OF C's\n",
    "I_fun_c"
   ]
  },
  {
   "cell_type": "code",
   "execution_count": 18,
   "id": "5a1f1af1",
   "metadata": {},
   "outputs": [
    {
     "name": "stdout",
     "output_type": "stream",
     "text": [
      "[0.800000000000001*c1 + 1.29999999999999*c2 - 1.5] 1\n",
      "[0.800000000000001*c1 + 1.29999999999999*c2 - 1.5, 1.29999999999999*c1 + 2.21904761904761*c2 - 2.29999999999999] 2\n",
      "(3.97206703910632 - 1.2905027932962*x)*(x - 2)*(x - 1)\n"
     ]
    }
   ],
   "source": [
    "# C1=solve(Ic1.diff(c1),c1)[0]\n",
    "# C1\n",
    "param=[]\n",
    "equ=[]\n",
    "for i in range(1,3):\n",
    "    equ.append(I_fun_c.diff(f'c{i}'))\n",
    "    print(equ,i)\n",
    "    param.append(dic[f'c{i}'])\n",
    "del_I=solve(equ,param)\n",
    "del_I\n",
    "(phi0+un).subs(del_I)\n",
    "print((phi0+un).subs(del_I))"
   ]
  },
  {
   "cell_type": "code",
   "execution_count": 20,
   "id": "9503d138",
   "metadata": {},
   "outputs": [
    {
     "data": {
      "image/png": "[encoded data removed]",
      "text/plain": [
       "<Figure size 432x288 with 1 Axes>"
      ]
     },
     "metadata": {
      "needs_background": "light"
     },
     "output_type": "display_data"
    }
   ],
   "source": [
    "import numpy as np\n",
    "xx=np.linspace(1,2,100)\n",
    "yy=(3.97206703910632 - 1.2905027932962*xx)*(xx - 2)*(xx - 1)\n",
    "exact=6/xx+3*xx-9\n",
    "plt.plot(xx, yy, 'r--', xx,exact, 'bs')\n",
    "plt.show()"
   ]
  },
  {
   "cell_type": "code",
   "execution_count": 23,
   "id": "d7d56c42",
   "metadata": {},
   "outputs": [
    {
     "data": {
      "image/png": "[encoded data removed]",
      "text/plain": [
       "<Figure size 432x288 with 1 Axes>"
      ]
     },
     "metadata": {
      "needs_background": "light"
     },
     "output_type": "display_data"
    }
   ],
   "source": [
    "import numpy as np\n",
    "xx=np.linspace(1,2,100)\n",
    "yy=(3.97206703910632 - 1.2905027932962*xx)*(xx - 2)*(xx - 1)\n",
    "exact=6/xx+3*xx-9\n",
    "plt.plot(xx, yy, 'r--')\n",
    "plt.show()"
   ]
  },
  {
   "cell_type": "code",
   "execution_count": null,
   "id": "bd0a10ca",
   "metadata": {},
   "outputs": [],
   "source": []
  }
 ],
 "metadata": {
  "kernelspec": {
   "display_name": "Python 3 (ipykernel)",
   "language": "python",
   "name": "python3"
  },
  "language_info": {
   "codemirror_mode": {
    "name": "ipython",
    "version": 3
   },
   "file_extension": ".py",
   "mimetype": "text/x-python",
   "name": "python",
   "nbconvert_exporter": "python",
   "pygments_lexer": "ipython3",
   "version": "3.9.6"
  }
 },
 "nbformat": 4,
 "nbformat_minor": 5
}
