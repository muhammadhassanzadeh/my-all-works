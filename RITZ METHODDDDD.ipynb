{
 "cells": [
  {
   "cell_type": "markdown",
   "id": "70b0d6c5",
   "metadata": {},
   "source": [
    "# Rayleigh_Ritz method in Python\n",
    "\n",
    "## Author :  Muhammad Hassanzadeh\n",
    "#### project of variational calculus by D.r Morteza Garshasbi\n",
    "\n",
    "\n",
    "The Rayleigh Ritz method is a classical approximate method to find the displacement function of an object such that the it is in extremised state. It is regarded as an ancestor of the widely used Finite Element Method (FEM), control volume problems and etc,this method works when our classical variational maethod like Euler_Lagrange equation doesn't get us to solution.by Weierstrass theorem we can approximate any continious function by sequence of linear independent basis functions\n",
    "for solving boundary value problem we deal with second order ordinary differential equations given $y(x_0)=y_0 , y(x_1)=y_1$ : $$a(x)\\ddot y+b(x)\\dot y +c(x)y=f(x)$$ Then  we  can change the boundary value problem to a variational problem using analytical methods to construct the following functional beacaus we are approximating and thus we have errors regardless of rounding error of computar we try to find best fitting coefficient of basis functions by extremising following functional:\n",
    "\n",
    "\n",
    "  $$ I[y]=\\int_{x_0}^{x_1} [p(x)(\\frac{dy}{dx})^2 +q(x)y^2 + r(x)y]dx$$ \n",
    "  \n",
    "  \n",
    "\n",
    "the steps to find twice_differntiable approximation in this method are as following:\n",
    "\n",
    "\n",
    "i)make a trial function $$U(x)=\\phi_0 (x)+\\sum_{j=1}^{n} c_j \\phi_j (x)$$\n",
    "in which  $\\phi_0 (x)$  satisfies our boundary conditions $y(x_0)=y_0 , y(x_1)=y_1$ and all $\\phi_j (x)$  get value of zero in boundary conditions.\n",
    "\n",
    "\n",
    "\n",
    "ii) now for finding scaler coefficient $c_j $ we can subsitute our trial function in functional ,then integerating it and we get algabraic equations for each $c_j $  by letting $$\\frac{\\partial I(c_j)}{c_j}=0$$\n",
    "\n",
    "### check the solved example at the end of script\n",
    "\n",
    "###### created on january 2022 univesity of IUST \n",
    "\n"
   ]
  },
  {
   "cell_type": "markdown",
   "id": "4a3cb2b9",
   "metadata": {},
   "source": [
    "## importing libraries and taking inputs from user\n",
    "the program works by having boundary conditions and functions of p,q,r which for $3sin(x)+x^2$ need to be typed like: 3* sin(x) + x* * x\n",
    "###### by entering poly in asked input program will use polynomial for approximation, otherwise it uses sine functions ."
   ]
  },
  {
   "cell_type": "code",
   "execution_count": 1,
   "id": "10c04171",
   "metadata": {},
   "outputs": [
    {
     "name": "stdout",
     "output_type": "stream",
     "text": [
      "please enter p(x) =3*x**2\n",
      "please enter q(x) =sin(2*x)*2\n",
      "please enter r(x) =x*cos(3*x)*2\n",
      "please enter x0=1\n",
      "please enter y0=0\n",
      "please enter x1=2\n",
      "please enter y1=3\n",
      "please enter number of terms in RRM=2\n",
      "please enter poly if you want polynomial or as basis functions=poly\n",
      "please y if you want to see comparing of basis function in graph=y\n",
      "2\n"
     ]
    }
   ],
   "source": [
    "%matplotlib inline\n",
    "import numpy as np\n",
    "from sympy import *\n",
    "import matplotlib.pyplot as plt\n",
    "\n",
    "x=Symbol('x')\n",
    "p=Eq(Function('p')(x),eval(input('please enter p(x) ='))).rhs\n",
    "q=Eq(Function('q')(x),eval(input('please enter q(x) ='))).rhs\n",
    "r=Eq(Function('r')(x),eval(input('please enter r(x) ='))).rhs\n",
    "f=Function('f')(x)\n",
    "x0=float(input('please enter x0='))\n",
    "y0=float(input('please enter y0='))\n",
    "x1=float(input('please enter x1='))\n",
    "y1=float(input('please enter y1='))\n",
    "nn=int(input('please enter number of terms in RRM='))\n",
    "choose=input('please enter poly if you want polynomial or as basis functions=')\n",
    "compare=input('please y if you want to see comparing of basis function in graph=')\n",
    "print(nn)"
   ]
  },
  {
   "cell_type": "code",
   "execution_count": 2,
   "id": "6df57533",
   "metadata": {},
   "outputs": [
    {
     "name": "stdout",
     "output_type": "stream",
     "text": [
      "Integral(3*x**2*Derivative(f(x), x)**2 + 2*x*f(x)*cos(3*x) + 2*f(x)**2*sin(2*x), (x, 1.0, 2.0))\n"
     ]
    },
    {
     "data": {
      "text/latex": [
       "$\\displaystyle \\int\\limits_{1.0}^{2.0} \\left(3 x^{2} \\left(\\frac{d}{d x} f{\\left(x \\right)}\\right)^{2} + 2 x f{\\left(x \\right)} \\cos{\\left(3 x \\right)} + 2 f^{2}{\\left(x \\right)} \\sin{\\left(2 x \\right)}\\right)\\, dx$"
      ],
      "text/plain": [
       "Integral(3*x**2*Derivative(f(x), x)**2 + 2*x*f(x)*cos(3*x) + 2*f(x)**2*sin(2*x), (x, 1.0, 2.0))"
      ]
     },
     "execution_count": 2,
     "metadata": {},
     "output_type": "execute_result"
    }
   ],
   "source": [
    "#instead of extrimising our functional by Euler_Lagrang method we are going to use Rayleigh Rits method \n",
    "#using set of trial basis functions that satisfies the functional make it algabraic \n",
    "I=Integral(Eq(p*f.diff(x)**2+q*f**2+r*f,0).lhs,[x,x0,x1])\n",
    "print(I)\n",
    "I"
   ]
  },
  {
   "cell_type": "markdown",
   "id": "a71c10e2",
   "metadata": {},
   "source": [
    "# make a trial function$$u(x)=\\phi_0 (x)+\\sum_{j=1}^{n} c_j \\phi_j (x)$$\n",
    "in which  $\\phi_0 (x)$  satisfies our boundary conditions $y(x_0)=y_0 , y(x_1)=y_1$ and all $\\phi_j (x)$  get value of zero in boundary conditions.\n"
   ]
  },
  {
   "cell_type": "code",
   "execution_count": 3,
   "id": "0c9329b9",
   "metadata": {},
   "outputs": [
    {
     "name": "stdout",
     "output_type": "stream",
     "text": [
      "3.0*x - 3.0\n"
     ]
    },
    {
     "data": {
      "text/plain": [
       "{a: 3.00000000000000, b: -3.00000000000000}"
      ]
     },
     "execution_count": 3,
     "metadata": {},
     "output_type": "execute_result"
    }
   ],
   "source": [
    "#phi0 must satisfies non_homogeneous boundry conditioin i.e BCs\n",
    "a,b,=symbols(' a b ')\n",
    "\n",
    "def phi0(x):\n",
    "    return a*x+b\n",
    "\n",
    "eq1=Eq(phi0(x0),y0)\n",
    "eq2=Eq(phi0(x1),y1)\n",
    "\n",
    "sol=solve((eq1,eq2),(a,b))\n",
    "a1=sol[a]\n",
    "b1=sol[b]\n",
    "print(a1*x+b1)\n",
    "phi0=a1*x+b1\n",
    "\n",
    "sol"
   ]
  },
  {
   "cell_type": "markdown",
   "id": "ed21c4fc",
   "metadata": {},
   "source": [
    "#  constructing n term of basis functions  $$\\sum_{j=1}^{n} c_j \\phi_j (x)$$"
   ]
  },
  {
   "cell_type": "code",
   "execution_count": 4,
   "id": "e87d2629",
   "metadata": {},
   "outputs": [
    {
     "name": "stdout",
     "output_type": "stream",
     "text": [
      "c1\n",
      "c2\n"
     ]
    },
    {
     "data": {
      "text/latex": [
       "$\\displaystyle \\operatorname{U_{n}}{\\left(x \\right)} = 3.0 x + \\left(c_{1} + c_{2} x\\right) \\left(x - 2.0\\right) \\left(x - 1.0\\right) - 3.0$"
      ],
      "text/plain": [
       "Eq(U_n(x), 3.0*x + (c1 + c2*x)*(x - 2.0)*(x - 1.0) - 3.0)"
      ]
     },
     "execution_count": 4,
     "metadata": {},
     "output_type": "execute_result"
    }
   ],
   "source": [
    "#phij of x are element of c**2[x0, x1] it means they are solution to our homogeneous problem form dI/dc=0\n",
    "dic={}\n",
    "u=0\n",
    "n=1\n",
    "\n",
    "if choose=='poly':\n",
    "    for i in range(1,(nn+1)):\n",
    "        dic[f'c{i}']=Symbol(f'c{i}')\n",
    "        u+=dic[f'c{i}']*x**(i-1)\n",
    "        phij=u*(x-x0)*(x-x1)\n",
    "        print(dic[f'c{i}'])\n",
    "        #now we plug in our estimated trial function in functional \n",
    "        I_new=Integral(p*(phi0+phij).diff(x)**2+q*(phi0+phij)**2+r*(phi0+phij),[x,x0,x1])\n",
    "else:\n",
    "        \n",
    "    for i in range(1,(nn+1)):\n",
    "        dic[f'c{i}']=Symbol(f'c{i}')\n",
    "        u+=dic[f'c{i}']*sin((i+1)*np.pi*(x-x0)/(x1-x0))\n",
    "        phij=u\n",
    "        #now we plug in our estimated trial function in functional \n",
    "        I_new=Integral(p*(phi0+phij).diff(x)**2+q*(phi0+phij)**2+r*(phi0+phij),[x,x0,x1])\n",
    "    \n",
    "#and itegerating it respect to x0 x1 so we get a function based on cj\n",
    "I_fun_c=integrate(I_new,[x,x0,x1])\n",
    "\n",
    "un=Eq(Function('U_n')(x),phi0+phij)\n",
    "un"
   ]
  },
  {
   "cell_type": "markdown",
   "id": "198ea9bb",
   "metadata": {},
   "source": [
    "# solveing algabraic equations for each $c_j $  $$\\frac{\\partial I(c_j)}{\\partial c_j}=0$$"
   ]
  },
  {
   "cell_type": "code",
   "execution_count": 5,
   "id": "c0df6768",
   "metadata": {},
   "outputs": [
    {
     "name": "stdout",
     "output_type": "stream",
     "text": [
      "3.0*x + (x - 2.0)*(x - 1.0)*(1.23882466276833*x - 3.89891921190956) - 3.0\n"
     ]
    },
    {
     "data": {
      "text/latex": [
       "$\\displaystyle \\operatorname{U_{n}}{\\left(2.0 \\right)} = 3.0$"
      ],
      "text/plain": [
       "Eq(U_n(2.0), 3.0)"
      ]
     },
     "execution_count": 5,
     "metadata": {},
     "output_type": "execute_result"
    }
   ],
   "source": [
    "#getting partial derivative of I(cj)/dcj=0 and finding cj\n",
    "param=[]\n",
    "equ=[]\n",
    "for i in range(1,(nn+1)):\n",
    "    equ.append(I_fun_c.diff(f'c{i}'))\n",
    "    param.append(dic[f'c{i}'])\n",
    "\n",
    "#solvig j equation and j unknown using sympy.solve\n",
    "dIcj_sol=solve(equ,param)\n",
    "#print(dIcj_sol)\n",
    "\n",
    "#subsituting founded cj in our trial function u\n",
    "\n",
    "un=un.subs(dIcj_sol)\n",
    "print(un.rhs)\n",
    "\n",
    "un.subs('x',x1)\n"
   ]
  },
  {
   "cell_type": "markdown",
   "id": "c337b39b",
   "metadata": {},
   "source": [
    "# plotting the approximated solution"
   ]
  },
  {
   "cell_type": "code",
   "execution_count": 6,
   "id": "d71b49e8",
   "metadata": {},
   "outputs": [
    {
     "data": {
      "image/png": "[encoded data removed]",
      "text/plain": [
       "<Figure size 432x288 with 1 Axes>"
      ]
     },
     "metadata": {
      "needs_background": "light"
     },
     "output_type": "display_data"
    }
   ],
   "source": [
    "\n",
    "xx=np.linspace(x0,x1,100)\n",
    "yy=[]\n",
    "for i in xx:\n",
    "    yy.append(un.rhs.subs('x',i))\n",
    "#exact=6/xx+3*xx-9\n",
    "plt.xlabel(\"domain\")\n",
    "plt.ylabel(\"U(x)\")\n",
    "#plt.plot( xx,exact, 'yo',label='exact' )\n",
    "plt.plot( xx, yy, 'r--' ,label='y_1')\n",
    "#plt.plot( xx,yyy,'b--' ,label='y_2')\n",
    "plt.title('graph of our approximation')\n",
    "plt.legend()\n",
    "plt.show()\n",
    "\n"
   ]
  },
  {
   "cell_type": "markdown",
   "id": "a831c340",
   "metadata": {},
   "source": [
    "# One example\n",
    "in solving by BC $y(1)=0 , y(2)=0$\n",
    "  $$ I[y]=\\int_{1}^{2} [\\frac{1}{2}x^2(\\frac{dy}{dx})^2  +6xy]dx$$ \n",
    "  we know exact solution that's shown in yellow dotted curve:$$y_e=\\frac{6}{x}+3x-9$$\n",
    "  and by help of this program via RR method we get following approximation \n",
    "  first with $n=1$ that's shown in red :\n",
    "  $$y_1-=1.875(x-2)(x-1)$$\n",
    "  \n",
    "  and second one is with $n=2$ that's shown in blue dash curve:(as u can see its almost like exact)\n",
    "  $$y_2=(3.97206703910632 - 1.2905027932962x)(x - 2)(x - 1)$$"
   ]
  },
  {
   "cell_type": "code",
   "execution_count": 7,
   "id": "2f83518e",
   "metadata": {},
   "outputs": [
    {
     "data": {
      "image/png": "[encoded data removed]",
      "text/plain": [
       "<Figure size 432x288 with 1 Axes>"
      ]
     },
     "metadata": {
      "needs_background": "light"
     },
     "output_type": "display_data"
    }
   ],
   "source": [
    "#this is an example:\n",
    "xx=np.linspace(1,2,100)\n",
    "yy=1.875*(xx - 2)*(xx - 1)\n",
    "yyy=(3.97206703910632 - 1.2905027932962*xx)*(xx - 2)*(xx - 1)\n",
    "exact=6/xx+3*xx-9\n",
    "plt.xlabel(\"domain\")\n",
    "plt.ylabel(\"U(x)\")\n",
    "plt.plot( xx,exact, 'yo',label='exact' )\n",
    "plt.plot( xx, yy, 'r--' ,label='y_1')\n",
    "plt.plot( xx,yyy,'b--' ,label='y_2')\n",
    "plt.title('comparing the ecaxt and approximation')\n",
    "plt.legend()\n",
    "plt.show()\n"
   ]
  },
  {
   "cell_type": "markdown",
   "id": "b17c00f3",
   "metadata": {},
   "source": [
    "# Here you can see comparing of basis functions\n",
    "this section is to say for each spesefic problem set of specefic basis function is reguired. "
   ]
  },
  {
   "cell_type": "code",
   "execution_count": 8,
   "id": "2c82874e",
   "metadata": {},
   "outputs": [
    {
     "name": "stdout",
     "output_type": "stream",
     "text": [
      "3.0*x + (x - 2.0)*(x - 1.0)*(1.23882466276833*x - 3.89891921190956) - 3.0\n",
      "Eq(U_n(x), 3.0*x + (x - 2.0)*(x - 1.0)*(1.23882466276833*x - 3.89891921190956) - 3.0)\n",
      "Eq(U_n2(x), 3.0*x - 0.0152427212735261*sin(6.28318530717959*x - 6.28318530717959) + 0.0168116318817264*sin(9.42477796076938*x - 9.42477796076938) - 3.0)\n"
     ]
    },
    {
     "data": {
      "image/png": "[encoded data removed]",
      "text/plain": [
       "<Figure size 432x288 with 1 Axes>"
      ]
     },
     "metadata": {
      "needs_background": "light"
     },
     "output_type": "display_data"
    }
   ],
   "source": [
    "dic={}\n",
    "dic2={}\n",
    "u=0\n",
    "u2=0\n",
    "n=1\n",
    "\n",
    "if compare=='y':\n",
    "    for i in range(1,(nn+1)):\n",
    "        dic[f'c{i}']=Symbol(f'c{i}')\n",
    "        u+=dic[f'c{i}']*x**(i-1)\n",
    "        phij=u*(x-x0)*(x-x1)\n",
    "        #now we plug in our estimated trial function in functional \n",
    "        I_new=Integral(p*(phi0+phij).diff(x)**2+q*(phi0+phij)**2+r*(phi0+phij),[x,x0,x1])\n",
    " \n",
    "        dic2[f'c{i}']=Symbol(f'c{i}')\n",
    "        u2+=dic[f'c{i}']*sin((i+1)*np.pi*(x-x0)/(x1-x0))\n",
    "        phij2=u2\n",
    "        #now we plug in our estimated trial function in functional \n",
    "        I_new2=Integral(p*(phi0+phij2).diff(x)**2+q*(phi0+phij2)**2+r*(phi0+phij2),[x,x0,x1])\n",
    "    \n",
    "#and itegerating it respect to x0 x1 so we get a function based on cj\n",
    "I_fun_c=integrate(I_new,[x,x0,x1])\n",
    "I_fun_c2=integrate(I_new2,[x,x0,x1])\n",
    "un=Eq(Function('U_n')(x),phi0+phij)\n",
    "un2=Eq(Function('U_n2')(x),phi0+phij2)\n",
    "\n",
    "\n",
    "#getting partial derivative of I(cj)/dcj=0 and finding cj\n",
    "param=[]\n",
    "equ=[]\n",
    "param2=[]\n",
    "equ2=[]\n",
    "for i in range(1,(nn+1)):\n",
    "    equ.append(I_fun_c.diff(f'c{i}'))\n",
    "    param.append(dic[f'c{i}'])\n",
    "\n",
    "#solvig j equation and j unknown using sympy.solve\n",
    "dIcj_sol=solve(equ,param)\n",
    "#print(dIcj_sol)\n",
    "\n",
    "#subsituting founded cj in our trial function u\n",
    "\n",
    "un=un.subs(dIcj_sol)\n",
    "print(un.rhs)\n",
    "\n",
    "for i in range(1,(nn+1)):\n",
    "    equ2.append(I_fun_c2.diff(f'c{i}'))\n",
    "    param2.append(dic2[f'c{i}'])\n",
    "\n",
    "#solvig j equation and j unknown using sympy.solve\n",
    "dIcj_sol2=solve(equ2,param2)\n",
    "#print(dIcj_sol)\n",
    "\n",
    "#subsituting founded cj in our trial function u\n",
    "\n",
    "un=un.subs(dIcj_sol)\n",
    "un2=un2.subs(dIcj_sol2)\n",
    "print(un)\n",
    "print(un2)\n",
    "\n",
    "xx=np.linspace(x0,x1,100)\n",
    "yy=[]\n",
    "yy2=[]\n",
    "for i in xx:\n",
    "    yy.append(un.rhs.subs('x',i))\n",
    "for i in xx:\n",
    "    yy2.append(un2.rhs.subs('x',i))\n",
    "\n",
    "plt.xlabel(\"domain\")\n",
    "plt.ylabel(\"U(x)\")\n",
    "\n",
    "plt.plot( xx, yy, 'r--' ,label='y_polnomial')\n",
    "plt.plot( xx,yy2,'b--' ,label='y_sine')\n",
    "plt.title('graph of our comparing')\n",
    "plt.legend()\n",
    "plt.show()\n"
   ]
  },
  {
   "cell_type": "markdown",
   "id": "df50a860",
   "metadata": {},
   "source": [
    "finished\n",
    "## D.r Garshasbi Thank you for your teaching\n",
    "#### best regards Muhammd"
   ]
  }
 ],
 "metadata": {
  "kernelspec": {
   "display_name": "Python 3 (ipykernel)",
   "language": "python",
   "name": "python3"
  },
  "language_info": {
   "codemirror_mode": {
    "name": "ipython",
    "version": 3
   },
   "file_extension": ".py",
   "mimetype": "text/x-python",
   "name": "python",
   "nbconvert_exporter": "python",
   "pygments_lexer": "ipython3",
   "version": "3.9.6"
  }
 },
 "nbformat": 4,
 "nbformat_minor": 5
}
